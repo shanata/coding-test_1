{
 "cells": [
  {
   "cell_type": "markdown",
   "id": "75e4ef5f",
   "metadata": {},
   "source": [
    "# 최단경로"
   ]
  },
  {
   "cell_type": "markdown",
   "id": "83e32c6b",
   "metadata": {},
   "source": [
    "## 간단한 다익스트라 알고리즘\n",
    "시간 복잡도 : O(V^2)"
   ]
  },
  {
   "cell_type": "code",
   "execution_count": 2,
   "id": "632bb592",
   "metadata": {
    "ExecuteTime": {
     "end_time": "2022-06-21T06:11:14.503501Z",
     "start_time": "2022-06-21T06:10:46.073864Z"
    }
   },
   "outputs": [
    {
     "name": "stdout",
     "output_type": "stream",
     "text": [
      "6 11\n",
      "1\n",
      "1 2 2\n",
      "1 3 5\n",
      "1 4 1\n",
      "2 3 3\n",
      "2 4 2\n",
      "3 2 3\n",
      "3 6 5\n",
      "4 3 3\n",
      "4 5 1\n",
      "5 3 1\n",
      "5 6 2\n",
      "0\n",
      "2\n",
      "3\n",
      "1\n",
      "2\n",
      "4\n"
     ]
    }
   ],
   "source": [
    "# 간단한 다익스트라 알고리즘 소스코드\n",
    "INF = int(1e9)\n",
    "\n",
    "n, m = map(int, input().split())\n",
    "start = int(input())\n",
    "#각 노드에 연결되어 있는 노드에 대한 정보를 담는 리스트를 만들기\n",
    "graph = [[] for i in range(n+1)]\n",
    "visited = [False] * (n+1)\n",
    "# 최단 거리 테이블을 모두 무한으로 초기화\n",
    "distance = [INF] * (n+1)\n",
    "#모든 간선 정보를 입력받기\n",
    "for _ in range(m):\n",
    "    a,b,c = map(int,input().split())\n",
    "    graph[a].append((b,c))\n",
    "\n",
    "def get_smallest_node():\n",
    "    min_value = INF\n",
    "    index = 0\n",
    "    for i in range(1, n+1):\n",
    "        if distance[i] < min_value and not visited[i]:\n",
    "            min_value = distance[i]\n",
    "            index = i\n",
    "    return index\n",
    "\n",
    "def dijkstra(start):\n",
    "    # 시작 노드에 대해서 초기화\n",
    "    distance[start] = 0\n",
    "    visited[start] = True\n",
    "    for j in graph[start]:\n",
    "        distance[j[0]] = j[1]\n",
    "    for i in range(n-1):\n",
    "        now = get_smallest_node()\n",
    "        visited[now] = True\n",
    "        for j in graph[now]:\n",
    "            cost = distance[now]+ j[1]\n",
    "            \n",
    "            if cost < distance[j[0]]:\n",
    "                distance[j[0]] = cost\n",
    "                \n",
    "dijkstra(start)\n",
    "\n",
    "for i in range(1, n+1):\n",
    "    if distance[i] == INF:\n",
    "        print(\"INFINITY\")\n",
    "    else:\n",
    "        print(distance[i])\n",
    "        "
   ]
  },
  {
   "cell_type": "markdown",
   "id": "ecfc9def",
   "metadata": {},
   "source": [
    "## heap q를 이용한 다익스트라 알고리즘\n",
    "시간복잡도 : O(ElogV)"
   ]
  },
  {
   "cell_type": "code",
   "execution_count": 4,
   "id": "6466f2cf",
   "metadata": {
    "ExecuteTime": {
     "end_time": "2022-06-21T07:48:44.332057Z",
     "start_time": "2022-06-21T07:48:19.577283Z"
    }
   },
   "outputs": [
    {
     "name": "stdout",
     "output_type": "stream",
     "text": [
      "6 11\n",
      "1\n",
      "1 2 2\n",
      "1 3 5\n",
      "1 4 1\n",
      "2 3 3\n",
      "2 4 2\n",
      "3 2 3\n",
      "3 6 5\n",
      "4 3 3\n",
      "4 5 1\n",
      "5 3 1\n",
      "5 6 2\n",
      "0\n",
      "2\n",
      "3\n",
      "1\n",
      "2\n",
      "4\n"
     ]
    }
   ],
   "source": [
    "# 개선된 다익스트라 알고리즘 소스코드\n",
    "import heapq\n",
    "INF = int(1e9)\n",
    "n,m = map(int, input().split())\n",
    "start = int(input())\n",
    "graph = [[] for i in range(n+1)]\n",
    "distance = [INF]*(n+1)\n",
    "\n",
    "#모든 간선 정보를 입력받기\n",
    "for _ in range(m):\n",
    "    a,b,c = map(int,input().split())\n",
    "    graph[a].append((b,c))\n",
    "    \n",
    "def dijkstra(start):\n",
    "    q=[]\n",
    "    \n",
    "    heapq.heappush(q,(0,start))\n",
    "    distance[start] = 0\n",
    "    while q:\n",
    "        # 가장 최단 거리가 짧은 노드에 대한 정보 꺼내기\n",
    "        dist, now = heapq.heappop(q)\n",
    "        \n",
    "        if distance[now] < dist:\n",
    "            continue\n",
    "        #현재 노드와 연결된 다른 인접한 노드들을 확인\n",
    "        for i in graph[now]:\n",
    "            cost = dist + i[1]\n",
    "            #현재 노드를 거쳐서, 다른 노드로 이동하는 거리가 더 짧은 경우\n",
    "            if cost<distance[i[0]]:\n",
    "                distance[i[0]] = cost\n",
    "                heapq.heappush(q,(cost,i[0]))\n",
    "dijkstra(start)\n",
    "\n",
    "for i in range(1, n+1):\n",
    "    if distance[i] == INF:\n",
    "        print(\"INFINITY\")\n",
    "    else:\n",
    "        print(distance[i])"
   ]
  },
  {
   "cell_type": "markdown",
   "id": "7228a7f3",
   "metadata": {},
   "source": [
    "## 플로이드워셜 알고리즘\n",
    "시간 복잡도 : O(N^3)"
   ]
  },
  {
   "cell_type": "code",
   "execution_count": 5,
   "id": "e550a273",
   "metadata": {
    "ExecuteTime": {
     "end_time": "2022-06-21T15:33:01.933057Z",
     "start_time": "2022-06-21T15:32:44.279992Z"
    }
   },
   "outputs": [
    {
     "name": "stdout",
     "output_type": "stream",
     "text": [
      "4\n",
      "7\n",
      "1 2 4\n",
      "1 4 6\n",
      "2 1 3\n",
      "2 3 7\n",
      "3 1 5\n",
      "3 4 4\n",
      "4 3 2\n",
      "0 4 8 6 \n",
      "3 0 7 9 \n",
      "5 9 0 4 \n",
      "7 11 2 0 \n"
     ]
    }
   ],
   "source": [
    "#플로이드 워셜 알고리즘 소스코드\n",
    "INF = int(1e9)\n",
    "#노드의 개수\n",
    "n = int(input())\n",
    "#간선의 개수\n",
    "m = int(input())\n",
    "# 2차원 리스트, 최단거리 기록\n",
    "graph = [[INF]*(n+1)for _ in range(n+1)]\n",
    "for a in range(1, n+1):\n",
    "    for b in range(1, n+1):\n",
    "        if a==b:\n",
    "            graph[a][b] = 0\n",
    "#이러면 더 단축 될 듯?\n",
    "# for a in range(1, n+1):\n",
    "#     graph[a][a] = 0\n",
    "\n",
    "for _ in range(m):\n",
    "    a,b,c = map(int,input().split())\n",
    "    graph[a][b] = c\n",
    "#플로이드 워셜 알고리즘을 수행\n",
    "for k in range(1, n+1):\n",
    "    for a in range(1, n+1):\n",
    "        for b in range(1, n+1):\n",
    "            graph[a][b] = min(graph[a][b],graph[a][k]+graph[k][b])\n",
    "#결과 출력\n",
    "for a in range(1, n+1):\n",
    "    for b in range(1, n+1):\n",
    "        if graph[a][b] == INF:\n",
    "            print(\"INFINITY\",end=\" \")\n",
    "        else:\n",
    "            print(graph[a][b], end=\" \")\n",
    "    print()"
   ]
  },
  {
   "cell_type": "markdown",
   "id": "98332796",
   "metadata": {},
   "source": [
    "## 실전문제 1"
   ]
  },
  {
   "cell_type": "code",
   "execution_count": 7,
   "id": "5dd4e849",
   "metadata": {
    "ExecuteTime": {
     "end_time": "2022-06-21T15:51:10.798041Z",
     "start_time": "2022-06-21T15:51:04.572570Z"
    }
   },
   "outputs": [
    {
     "name": "stdout",
     "output_type": "stream",
     "text": [
      "4 2\n",
      "1 3\n",
      "2 4\n",
      "3 4\n",
      "-1\n"
     ]
    }
   ],
   "source": [
    "#heapq를 이용하는 방식먼저\n",
    "import heapq\n",
    "INF = int(1e9)\n",
    "#입력\n",
    "n, m = map(int,input().split())\n",
    "graph =[[] for _ in range(n+1)]\n",
    "distance = [INF] * (n+1)\n",
    "#간선 정보 받기\n",
    "for _ in range(m):\n",
    "    a, b = map(int, input().split())\n",
    "    graph[a].append((b,1))\n",
    "    graph[b].append((a,1))\n",
    "x, k = map(int, input().split())\n",
    "\n",
    "def dijkstra(start):\n",
    "    q = []\n",
    "    heapq.heappush(q,(0,start))\n",
    "    distance[start] = 0\n",
    "    while q:\n",
    "        dist, now = heapq.heappop(q)\n",
    "        \n",
    "        if distance[now]<dist:\n",
    "            continue\n",
    "        for i in graph[now]:\n",
    "            cost = dist + i[1]\n",
    "            if cost < distance[i[0]]:\n",
    "                distance[i[0]] = cost\n",
    "                heapq.heappush(q,(cost, i[0]))\n",
    "\n",
    "dijkstra(1)\n",
    "\n",
    "if distance[k] == INF:\n",
    "    print(-1)\n",
    "else:\n",
    "    dist_to_k = distance[k]\n",
    "    if distance[x] == INF:\n",
    "        print(-1)\n",
    "    else:\n",
    "        distance = [INF] * (n+1)\n",
    "        \n",
    "        dijkstra(k)\n",
    "        if distance[x] == INF:\n",
    "            print(-1)\n",
    "        else:\n",
    "            dist_to_x = distance[x]\n",
    "            print(dist_to_k+dist_to_x)"
   ]
  },
  {
   "cell_type": "code",
   "execution_count": 10,
   "id": "f66fbef4",
   "metadata": {
    "ExecuteTime": {
     "end_time": "2022-06-21T16:00:00.964713Z",
     "start_time": "2022-06-21T15:59:52.393954Z"
    }
   },
   "outputs": [
    {
     "name": "stdout",
     "output_type": "stream",
     "text": [
      "4 2\n",
      "1 3\n",
      "2 4\n",
      "3 4\n",
      "-1\n"
     ]
    }
   ],
   "source": [
    "# 단순하지만 오래 걸리는 방식\n",
    "\n",
    "INF = int(1e9)\n",
    "# 입력\n",
    "n, m = map(int, input().split())\n",
    "graph = [[] for _ in range(n+1)]\n",
    "distance = [INF] * (n+1)\n",
    "visited = [False] * (n+1)\n",
    "# 간선 정보 받기\n",
    "for _ in range(m):\n",
    "    a, b = map(int, input().split())\n",
    "    graph[a].append((b, 1))\n",
    "    graph[b].append((a, 1))\n",
    "\n",
    "x, k = map(int, input().split())\n",
    "\n",
    "\n",
    "def get_smallest_node():\n",
    "    min_value = INF\n",
    "    index = 0\n",
    "    for i in range(1, n+1):\n",
    "        if distance[i] < min_value and not visited[i]:\n",
    "            min_value = distance[i]\n",
    "            index = i\n",
    "    return index\n",
    "\n",
    "\n",
    "def dijkstra(start):\n",
    "    distance[start] = 0\n",
    "    visited[start] = True\n",
    "    for j in graph[start]:\n",
    "        distance[j[0]] = j[1]\n",
    "    for i in range(n-1):\n",
    "        now = get_smallest_node()\n",
    "        visited[now] = True\n",
    "        for j in graph[now]:\n",
    "            cost = distance[now]+j[1]  # j[1]은 거리정보 j[0]은 노드 정보\n",
    "            if cost < distance[j[0]]:\n",
    "                distance[j[0]] = cost\n",
    "\n",
    "\n",
    "dijkstra(1)\n",
    "\n",
    "if distance[k] == INF:\n",
    "    print(-1)\n",
    "else:\n",
    "    dist_to_k = distance[k]\n",
    "    if distance[x] == INF:\n",
    "        print(-1)\n",
    "    else:\n",
    "        distance = [INF] * (n+1)\n",
    "        visited = [False] * (n+1)\n",
    "        dijkstra(k)\n",
    "        if distance[x] == INF:\n",
    "            print(-1)\n",
    "        else:\n",
    "            dist_to_x = distance[x]\n",
    "            print(dist_to_k+dist_to_x)"
   ]
  },
  {
   "cell_type": "code",
   "execution_count": 14,
   "id": "cf9e3f8a",
   "metadata": {
    "ExecuteTime": {
     "end_time": "2022-06-21T16:08:28.015957Z",
     "start_time": "2022-06-21T16:08:17.451138Z"
    }
   },
   "outputs": [
    {
     "name": "stdout",
     "output_type": "stream",
     "text": [
      "5 7\n",
      "1 2\n",
      "1 3\n",
      "1 4\n",
      "2 4\n",
      "3 4\n",
      "3 5\n",
      "4 5\n",
      "4 5\n",
      "3\n"
     ]
    }
   ],
   "source": [
    "# 모두 들려야 하니까 플로이드 워셜로도 풀어보자\n",
    "INF = int(1e9)\n",
    "# 입력\n",
    "n, m = map(int, input().split())\n",
    "graph = [[INF] * (n+1) for _ in range(n+1)]\n",
    "for a in range(1,n+1):\n",
    "    graph[a][a] = 0\n",
    "\n",
    "# 간선 정보 받기\n",
    "for _ in range(m):\n",
    "    a, b = map(int, input().split())\n",
    "    graph[a][b] = 1\n",
    "    graph[b][a] = 1\n",
    "x_, k_ = map(int, input().split())\n",
    "\n",
    "for k in range(1, n+1):\n",
    "    for a in range(1, n+1):\n",
    "        for b in range(1, n+1):\n",
    "            graph[a][b] = min(graph[a][b],graph[a][k]+graph[k][b])\n",
    "dist_to_x = graph[1][k_]\n",
    "dist_to_k = graph[k_][x_]\n",
    "\n",
    "if dist_to_k == INF or dist_to_x == INF:\n",
    "    print(-1)\n",
    "else:\n",
    "    print(dist_to_k+dist_to_x)\n"
   ]
  },
  {
   "cell_type": "code",
   "execution_count": 16,
   "id": "5bbfc78e",
   "metadata": {
    "ExecuteTime": {
     "end_time": "2022-06-21T16:11:06.237573Z",
     "start_time": "2022-06-21T16:10:58.283226Z"
    }
   },
   "outputs": [
    {
     "name": "stdout",
     "output_type": "stream",
     "text": [
      "4 2\n",
      "1 3\n",
      "2 4\n",
      "3 4\n",
      "4\n",
      "-1\n"
     ]
    }
   ],
   "source": [
    "# 정답 예시\n",
    "INF = int(1e9)\n",
    "n, m = map(int, input().split())\n",
    "graph = [[INF] * (n+1) for _ in range(n+1)]\n",
    "for a in range(1,n+1):\n",
    "    graph[a][a] = 0\n",
    "for _ in range(m):\n",
    "    a, b = map(int, input().split())\n",
    "    graph[a][b] = 1\n",
    "    graph[b][a] = 1\n",
    "x, k = map(int, input().split())\n",
    "\n",
    "for k in range(1, n+1):   #여기서 k가 반복적으로 사용되었는데 입력예시 두개 모두 k = n인 경우라 우연히 맞게 된 것 같다.\n",
    "    for a in range(1, n+1):\n",
    "        for b in range(1, n+1):\n",
    "            graph[a][b] = min(graph[a][b],graph[a][k]+graph[k][b])\n",
    "distance = graph[1][k] + graph[k][x]\n",
    "# print(k) \n",
    "if distance >= INF:\n",
    "    print(\"-1\")\n",
    "else:\n",
    "    print(distance)"
   ]
  },
  {
   "cell_type": "markdown",
   "id": "d2dd4f69",
   "metadata": {},
   "source": [
    "## 실전문제 2"
   ]
  },
  {
   "cell_type": "code",
   "execution_count": 27,
   "id": "8809ab2c",
   "metadata": {
    "ExecuteTime": {
     "end_time": "2022-06-21T16:55:19.130797Z",
     "start_time": "2022-06-21T16:55:13.599343Z"
    }
   },
   "outputs": [
    {
     "name": "stdout",
     "output_type": "stream",
     "text": [
      "3 2 1\n",
      "1 2 4\n",
      "1 3 2\n",
      "2 4\n"
     ]
    }
   ],
   "source": [
    "# heapq 방식으로만 문제 풀어보자\n",
    "import heapq\n",
    "INF = int(1e9)\n",
    "n, m, c = map(int, input().split())\n",
    "graph = [[] for _ in range(n+1)]\n",
    "distance = [INF] * (n+1)\n",
    "for _ in range(m):\n",
    "    x, y, z = map(int, input().split())\n",
    "    graph[x].append((y,z))\n",
    "    \n",
    "def dijkstra(start):\n",
    "    q = []\n",
    "    heapq.heappush(q,(start,0))\n",
    "    distance[start] = 0\n",
    "    while q:\n",
    "        now, dist =heapq.heappop(q)\n",
    "        if dist > distance[now]:\n",
    "            continue\n",
    "        \n",
    "        for i in graph[now]:\n",
    "            cost = dist + i[1]\n",
    "            if cost < distance[i[0]]:\n",
    "                distance[i[0]] = cost\n",
    "                heapq.heappush(q,(i[0],cost))\n",
    "dijkstra(c)\n",
    "\n",
    "count = 0\n",
    "sum = 0\n",
    "for i in range(1,n+1):\n",
    "    if distance[i] == INF:\n",
    "        continue\n",
    "    else:\n",
    "        count += 1\n",
    "        sum = max(sum,distance[i])\n",
    "        \n",
    "if count >=1:\n",
    "    count -= 1\n",
    "print(count, sum)"
   ]
  },
  {
   "cell_type": "code",
   "execution_count": null,
   "id": "bfd49bc7",
   "metadata": {},
   "outputs": [],
   "source": [
    "#답안 예시\n",
    "import heapq\n",
    "\n",
    "INF = int(1e9)\n",
    "\n",
    "n, m, start = map(int,input().split())\n",
    "grpagh = [[] for i in range(n+1)]\n",
    "distance = [INF] * (n+1)\n",
    "\n",
    "for _ in range(m):\n",
    "    x, y, z = map(int, input().split())\n",
    "    graph[x].append((y,z))\n",
    "    \n",
    "def dijkstra(start):\n",
    "    q = []\n",
    "    heapq.heappush(q,(0,start))\n",
    "    distance[start] = 0\n",
    "    while q:\n",
    "        dist, now = heapq.heappop(q)\n",
    "        if distance[now] < dist:\n",
    "            continue\n",
    "        for i in graph[now]:\n",
    "            cost = dist + i[1]\n",
    "            if cost < distance[i[0]]:\n",
    "                distance[i[0]] = cost\n",
    "                heapq.heappush(q, (cost, i[0]))\n",
    "dijkstra(start)\n",
    "count = 0\n",
    "max_distance = 0\n",
    "for d in distance:\n",
    "    if d != INF:\n",
    "        count += 1\n",
    "        max_distance = max(max_distance, d)\n",
    "        \n",
    "print(count -1, max_distance)"
   ]
  }
 ],
 "metadata": {
  "kernelspec": {
   "display_name": "Python 3",
   "language": "python",
   "name": "python3"
  },
  "language_info": {
   "codemirror_mode": {
    "name": "ipython",
    "version": 3
   },
   "file_extension": ".py",
   "mimetype": "text/x-python",
   "name": "python",
   "nbconvert_exporter": "python",
   "pygments_lexer": "ipython3",
   "version": "3.8.8"
  },
  "toc": {
   "base_numbering": 1,
   "nav_menu": {},
   "number_sections": true,
   "sideBar": true,
   "skip_h1_title": false,
   "title_cell": "Table of Contents",
   "title_sidebar": "Contents",
   "toc_cell": false,
   "toc_position": {},
   "toc_section_display": true,
   "toc_window_display": false
  },
  "varInspector": {
   "cols": {
    "lenName": 16,
    "lenType": 16,
    "lenVar": 40
   },
   "kernels_config": {
    "python": {
     "delete_cmd_postfix": "",
     "delete_cmd_prefix": "del ",
     "library": "var_list.py",
     "varRefreshCmd": "print(var_dic_list())"
    },
    "r": {
     "delete_cmd_postfix": ") ",
     "delete_cmd_prefix": "rm(",
     "library": "var_list.r",
     "varRefreshCmd": "cat(var_dic_list()) "
    }
   },
   "types_to_exclude": [
    "module",
    "function",
    "builtin_function_or_method",
    "instance",
    "_Feature"
   ],
   "window_display": false
  }
 },
 "nbformat": 4,
 "nbformat_minor": 5
}
