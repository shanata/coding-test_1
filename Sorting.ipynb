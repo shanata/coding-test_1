{
 "cells": [
  {
   "cell_type": "markdown",
   "id": "3b191eda",
   "metadata": {},
   "source": [
    "# 정렬 알고리즘 개요"
   ]
  },
  {
   "cell_type": "markdown",
   "id": "992f2632",
   "metadata": {},
   "source": [
    "## 선택정렬\n",
    "시간 복잡도 O(N^2)"
   ]
  },
  {
   "cell_type": "code",
   "execution_count": 1,
   "id": "efa1fe14",
   "metadata": {
    "ExecuteTime": {
     "end_time": "2022-06-16T04:21:44.751488Z",
     "start_time": "2022-06-16T04:21:44.742755Z"
    }
   },
   "outputs": [
    {
     "name": "stdout",
     "output_type": "stream",
     "text": [
      "[0, 1, 2, 3, 4, 5, 6, 7, 8, 9]\n"
     ]
    }
   ],
   "source": [
    "array = [7, 5, 9, 0, 3, 1, 6, 2, 4, 8]\n",
    "\n",
    "for i in range(len(array)):\n",
    "    min_index = i\n",
    "    for j in range(i+1, len(array)):\n",
    "        if array[min_index] > array[j]:\n",
    "            min_index = j\n",
    "    array[i], array[min_index] = array[min_index], array[i]  # 스와프\n",
    "\n",
    "print(array)"
   ]
  },
  {
   "cell_type": "markdown",
   "id": "93aa95c1",
   "metadata": {},
   "source": [
    "## 삽입정렬\n",
    "시간 복잡도 O(N^2)"
   ]
  },
  {
   "cell_type": "code",
   "execution_count": 2,
   "id": "94a0594f",
   "metadata": {
    "ExecuteTime": {
     "end_time": "2022-06-16T04:28:02.867241Z",
     "start_time": "2022-06-16T04:28:02.862282Z"
    }
   },
   "outputs": [
    {
     "name": "stdout",
     "output_type": "stream",
     "text": [
      "[0, 1, 2, 3, 4, 5, 6, 7, 8, 9]\n"
     ]
    }
   ],
   "source": [
    "array = [7, 5, 9, 0, 3, 1, 6, 2, 4, 8]\n",
    "\n",
    "for i in range(1, len(array)):\n",
    "    for j in range(i, 0, -1):\n",
    "        if array[j] < array[j-1]:\n",
    "            array[j], array[j-1] = array[j-1], array[j]\n",
    "        else:\n",
    "            break\n",
    "\n",
    "print(array)"
   ]
  },
  {
   "cell_type": "markdown",
   "id": "8a950f45",
   "metadata": {
    "ExecuteTime": {
     "end_time": "2022-06-16T04:28:49.285150Z",
     "start_time": "2022-06-16T04:28:49.273182Z"
    }
   },
   "source": [
    "## 퀵 정렬\n",
    "시간 복잡도 O(NlogN)"
   ]
  },
  {
   "cell_type": "code",
   "execution_count": 10,
   "id": "3be55099",
   "metadata": {
    "ExecuteTime": {
     "end_time": "2022-06-16T04:37:12.829665Z",
     "start_time": "2022-06-16T04:37:12.815669Z"
    }
   },
   "outputs": [
    {
     "name": "stdout",
     "output_type": "stream",
     "text": [
      "[0, 1, 2, 3, 4, 5, 6, 7, 8, 9]\n"
     ]
    }
   ],
   "source": [
    "# 퀵 정렬 소스코드\n",
    "array = [7, 5, 9, 0, 3, 1, 6, 2, 4, 8]\n",
    "\n",
    "def quick_sort(array, start, end):\n",
    "    if start >= end:\n",
    "        return\n",
    "    pivot = start #피벗을 첫번째 원소로\n",
    "    left = start + 1\n",
    "    right = end\n",
    "    while left <= right:\n",
    "        while left <= end and array[left] <= array[pivot]:\n",
    "            left += 1\n",
    "        while right > start and array[right] >= array[pivot]:\n",
    "            right -= 1\n",
    "        if left > right:\n",
    "            array[right], array[pivot] = array[pivot], array[right]\n",
    "        else:\n",
    "            array[left], array[right] = array[right], array[left]\n",
    "    quick_sort(array, start, right-1)\n",
    "    quick_sort(array, right + 1, end)\n",
    "    \n",
    "quick_sort(array, 0, len(array)-1)\n",
    "print(array)"
   ]
  },
  {
   "cell_type": "code",
   "execution_count": 11,
   "id": "09352308",
   "metadata": {
    "ExecuteTime": {
     "end_time": "2022-06-16T04:37:13.109801Z",
     "start_time": "2022-06-16T04:37:13.094842Z"
    }
   },
   "outputs": [
    {
     "name": "stdout",
     "output_type": "stream",
     "text": [
      "[0, 1, 2, 3, 4, 5, 6, 7, 8, 9]\n"
     ]
    }
   ],
   "source": [
    "#파이썬의 장점을 살린 퀵 정렬 소스코드\n",
    "# 시간은 더 증가할 수 있음\n",
    "array = [7, 5, 9, 0, 3, 1, 6, 2, 4, 8]\n",
    "\n",
    "def quick_sort(array):\n",
    "    if len(array)<= 1:\n",
    "        return array\n",
    "    pivot = array[0]\n",
    "    tail = array[1:]\n",
    "    \n",
    "    left_side = [x for x in tail if x<= pivot]\n",
    "    right_side = [x for x in tail if x> pivot]\n",
    "    \n",
    "    return quick_sort(left_side) + [pivot] + quick_sort(right_side)\n",
    "\n",
    "print(quick_sort(array))"
   ]
  },
  {
   "cell_type": "markdown",
   "id": "d2923de3",
   "metadata": {
    "ExecuteTime": {
     "end_time": "2022-06-16T04:41:44.140708Z",
     "start_time": "2022-06-16T04:41:44.127743Z"
    }
   },
   "source": [
    "## 계수 정렬\n",
    "시간 복잡도 O(N+K)"
   ]
  },
  {
   "cell_type": "code",
   "execution_count": 14,
   "id": "ee2980c9",
   "metadata": {
    "ExecuteTime": {
     "end_time": "2022-06-16T04:43:45.160747Z",
     "start_time": "2022-06-16T04:43:45.152772Z"
    }
   },
   "outputs": [
    {
     "name": "stdout",
     "output_type": "stream",
     "text": [
      "0 1 2 3 4 5 6 7 8 9 "
     ]
    }
   ],
   "source": [
    "array = [7, 5, 9, 0, 3, 1, 6, 2, 4, 8]\n",
    "\n",
    "count = [0] * (max(array)+1)\n",
    "\n",
    "for i in range(len(array)):\n",
    "    count[array[i]] = + 1\n",
    "\n",
    "for i in range(len(count)):\n",
    "    for j in range(count[i]):\n",
    "        print(i, end=' ')"
   ]
  },
  {
   "cell_type": "markdown",
   "id": "09f03383",
   "metadata": {},
   "source": [
    "## 기본 정렬 라이브러리 sorted()\n",
    "퀵 정렬과 비슷한 벙렬 정렬을 기반으로 함. 일반적으로 퀵 정렬보다 느리지만 최악의 경우에도 시간 복잡도 O(NlogN)을 보장한다는 특징이 있다"
   ]
  },
  {
   "cell_type": "code",
   "execution_count": 16,
   "id": "fdfc4792",
   "metadata": {
    "ExecuteTime": {
     "end_time": "2022-06-16T04:45:58.666662Z",
     "start_time": "2022-06-16T04:45:58.647677Z"
    }
   },
   "outputs": [
    {
     "name": "stdout",
     "output_type": "stream",
     "text": [
      "[0, 1, 2, 3, 4, 5, 6, 7, 8, 9]\n"
     ]
    }
   ],
   "source": [
    "array = [7, 5, 9, 0, 3, 1, 6, 2, 4, 8]\n",
    "\n",
    "result = sorted(array)\n",
    "print(result)"
   ]
  },
  {
   "cell_type": "code",
   "execution_count": 17,
   "id": "e095a033",
   "metadata": {
    "ExecuteTime": {
     "end_time": "2022-06-16T04:46:44.427043Z",
     "start_time": "2022-06-16T04:46:44.407961Z"
    }
   },
   "outputs": [
    {
     "name": "stdout",
     "output_type": "stream",
     "text": [
      "[0, 1, 2, 3, 4, 5, 6, 7, 8, 9]\n"
     ]
    }
   ],
   "source": [
    "#리스트 변수가 하나 있을 때 리스트 객체의 내장 함수인 sort()를 이용\n",
    "array = [7, 5, 9, 0, 3, 1, 6, 2, 4, 8]\n",
    "\n",
    "array.sort()\n",
    "print(array)"
   ]
  },
  {
   "cell_type": "code",
   "execution_count": 18,
   "id": "685d5eeb",
   "metadata": {
    "ExecuteTime": {
     "end_time": "2022-06-16T04:48:11.854021Z",
     "start_time": "2022-06-16T04:48:11.841092Z"
    }
   },
   "outputs": [
    {
     "name": "stdout",
     "output_type": "stream",
     "text": [
      "[('바나나', 2), ('당근', 3), ('사과', 5)]\n"
     ]
    }
   ],
   "source": [
    "# 정렬 라이브러리에서 key를 활용한 소스코드\n",
    "array = [('바나나',2),('사과',5),('당근', 3)]\n",
    "\n",
    "def setting(data):\n",
    "    return data[1]\n",
    "result = sorted(array, key=setting)\n",
    "print(result)"
   ]
  },
  {
   "cell_type": "markdown",
   "id": "c3478733",
   "metadata": {},
   "source": [
    "# 실전문제"
   ]
  },
  {
   "cell_type": "markdown",
   "id": "429dfc19",
   "metadata": {},
   "source": [
    "## 위에서 아래로"
   ]
  },
  {
   "cell_type": "code",
   "execution_count": 19,
   "id": "31efdb1b",
   "metadata": {
    "ExecuteTime": {
     "end_time": "2022-06-16T05:11:21.664765Z",
     "start_time": "2022-06-16T05:11:15.680710Z"
    }
   },
   "outputs": [
    {
     "name": "stdout",
     "output_type": "stream",
     "text": [
      "3\n",
      "15\n",
      "27\n",
      "12\n"
     ]
    },
    {
     "data": {
      "text/plain": [
       "[27, 15, 12]"
      ]
     },
     "execution_count": 19,
     "metadata": {},
     "output_type": "execute_result"
    }
   ],
   "source": [
    "n = int(input())\n",
    "array = []\n",
    "for _ in range(n):\n",
    "    array.append(int(input()))\n",
    "sorted(array, reverse = True)"
   ]
  },
  {
   "cell_type": "code",
   "execution_count": 20,
   "id": "e1cef3b4",
   "metadata": {
    "ExecuteTime": {
     "end_time": "2022-06-16T05:12:35.173069Z",
     "start_time": "2022-06-16T05:12:31.127630Z"
    }
   },
   "outputs": [
    {
     "name": "stdout",
     "output_type": "stream",
     "text": [
      "3\n",
      "15\n",
      "27\n",
      "12\n",
      "27 15 12 "
     ]
    }
   ],
   "source": [
    "#답안 예시\n",
    "n = int(input())\n",
    "array = []\n",
    "for _ in range(n):\n",
    "    array.append(int(input()))\n",
    "array = sorted(array, reverse = True)\n",
    "\n",
    "for i in array:\n",
    "    print(i, end=' ')"
   ]
  },
  {
   "cell_type": "markdown",
   "id": "21bd1732",
   "metadata": {},
   "source": [
    "## 성적이 낮은 순서로 학생 출력하기"
   ]
  },
  {
   "cell_type": "code",
   "execution_count": 22,
   "id": "50f2f052",
   "metadata": {
    "ExecuteTime": {
     "end_time": "2022-06-16T05:17:40.263381Z",
     "start_time": "2022-06-16T05:17:36.216345Z"
    }
   },
   "outputs": [
    {
     "name": "stdout",
     "output_type": "stream",
     "text": [
      "홍길동 95\n"
     ]
    }
   ],
   "source": [
    "set_ = input().split()"
   ]
  },
  {
   "cell_type": "code",
   "execution_count": 33,
   "id": "a6fd6a6b",
   "metadata": {
    "ExecuteTime": {
     "end_time": "2022-06-16T05:25:12.345820Z",
     "start_time": "2022-06-16T05:25:07.064556Z"
    }
   },
   "outputs": [
    {
     "name": "stdout",
     "output_type": "stream",
     "text": [
      "2\n",
      "홍길동 95\n",
      "이순신 77\n",
      "이순신 홍길동 "
     ]
    }
   ],
   "source": [
    "n = int(input())\n",
    "array = []\n",
    "for _ in range(n):\n",
    "    array.append(tuple(input().split()))\n",
    "\n",
    "\n",
    "def score(data):\n",
    "    return data[1]\n",
    "\n",
    "\n",
    "array = sorted(array, key=score)\n",
    "\n",
    "for i in array:\n",
    "    print(i[0], end=' ')"
   ]
  },
  {
   "cell_type": "code",
   "execution_count": 30,
   "id": "447c76fe",
   "metadata": {
    "ExecuteTime": {
     "end_time": "2022-06-16T05:24:13.615190Z",
     "start_time": "2022-06-16T05:24:04.128632Z"
    }
   },
   "outputs": [
    {
     "name": "stdout",
     "output_type": "stream",
     "text": [
      "2\n",
      "홍길동 95\n",
      "이순신 77\n",
      "이순신 홍길동 "
     ]
    }
   ],
   "source": [
    "# 답안 예시\n",
    "n = int(input())\n",
    "\n",
    "array = []\n",
    "for i in range(n):\n",
    "    input_data = input().split()\n",
    "    # 이름은 문자열 그대로, 점수는 정수형으로 변환하여 저장\n",
    "    array.append((input_data[0], int(input_data[1])))\n",
    "    \n",
    "# 키(key)를 이용하여, 점수를 기준으로 정렬\n",
    "array = sorted(array, key = lambda student: student[1])\n",
    "\n",
    "# 정렬이 수행된 결과를 출력\n",
    "for student in array:\n",
    "    print(student[0], end =' ')\n"
   ]
  },
  {
   "cell_type": "markdown",
   "id": "6f71d882",
   "metadata": {},
   "source": [
    "## 두 배열의 원소 교체"
   ]
  },
  {
   "cell_type": "code",
   "execution_count": 38,
   "id": "16219edf",
   "metadata": {
    "ExecuteTime": {
     "end_time": "2022-06-16T05:41:59.474380Z",
     "start_time": "2022-06-16T05:41:48.488284Z"
    }
   },
   "outputs": [
    {
     "name": "stdout",
     "output_type": "stream",
     "text": [
      "5 3\n",
      "1 2 5 4 3\n",
      "5 5 6 6 5\n",
      "[6, 2, 3, 4, 5]\n",
      "[5, 5, 5, 6, 1]\n",
      "[6, 3, 4, 5, 6]\n",
      "[1, 5, 5, 5, 2]\n",
      "[5, 4, 5, 6, 6]\n",
      "[1, 2, 5, 5, 3]\n"
     ]
    },
    {
     "data": {
      "text/plain": [
       "26"
      ]
     },
     "execution_count": 38,
     "metadata": {},
     "output_type": "execute_result"
    }
   ],
   "source": [
    "n, k = map(int, input().split())\n",
    "lst_a = list(map(int, input().split()))\n",
    "lst_b = list(map(int, input().split()))\n",
    "\n",
    "\n",
    "for _ in range(k):\n",
    "    lst_a = sorted(lst_a)\n",
    "    lst_b = sorted(lst_b)\n",
    "\n",
    "    lst_a[0], lst_b[-1] = lst_b[-1], lst_a[0] # 두개의 크기 비교를 뺴먹었다. \n",
    "    \n",
    "\n",
    "print(sum(lst_a))"
   ]
  },
  {
   "cell_type": "code",
   "execution_count": 39,
   "id": "2f2be468",
   "metadata": {
    "ExecuteTime": {
     "end_time": "2022-06-16T05:45:10.816395Z",
     "start_time": "2022-06-16T05:44:27.235231Z"
    }
   },
   "outputs": [
    {
     "name": "stdout",
     "output_type": "stream",
     "text": [
      "5 3\n",
      "1 2 5 4 3\n",
      "5 5 6 6 5\n",
      "26\n"
     ]
    }
   ],
   "source": [
    "# 답안 예시\n",
    "n, k = map(int, input().split())\n",
    "a = list(map(int, input().split()))\n",
    "b = list(map(int, input().split()))\n",
    "\n",
    "a.sort()\n",
    "b.sort(reverse=True)\n",
    "\n",
    "for i in range(k): #매번 sort를 안해줘도 된다!\n",
    "    if a[i] < b[i]:\n",
    "        a[i], b[i] = b[i], a[i]\n",
    "    else:\n",
    "        break\n",
    "\n",
    "print(sum(a))"
   ]
  },
  {
   "cell_type": "code",
   "execution_count": null,
   "id": "7705f8e0",
   "metadata": {},
   "outputs": [],
   "source": []
  }
 ],
 "metadata": {
  "kernelspec": {
   "display_name": "Python 3",
   "language": "python",
   "name": "python3"
  },
  "language_info": {
   "codemirror_mode": {
    "name": "ipython",
    "version": 3
   },
   "file_extension": ".py",
   "mimetype": "text/x-python",
   "name": "python",
   "nbconvert_exporter": "python",
   "pygments_lexer": "ipython3",
   "version": "3.8.8"
  },
  "toc": {
   "base_numbering": 1,
   "nav_menu": {},
   "number_sections": true,
   "sideBar": true,
   "skip_h1_title": false,
   "title_cell": "Table of Contents",
   "title_sidebar": "Contents",
   "toc_cell": false,
   "toc_position": {},
   "toc_section_display": true,
   "toc_window_display": false
  },
  "varInspector": {
   "cols": {
    "lenName": 16,
    "lenType": 16,
    "lenVar": 40
   },
   "kernels_config": {
    "python": {
     "delete_cmd_postfix": "",
     "delete_cmd_prefix": "del ",
     "library": "var_list.py",
     "varRefreshCmd": "print(var_dic_list())"
    },
    "r": {
     "delete_cmd_postfix": ") ",
     "delete_cmd_prefix": "rm(",
     "library": "var_list.r",
     "varRefreshCmd": "cat(var_dic_list()) "
    }
   },
   "types_to_exclude": [
    "module",
    "function",
    "builtin_function_or_method",
    "instance",
    "_Feature"
   ],
   "window_display": false
  }
 },
 "nbformat": 4,
 "nbformat_minor": 5
}
