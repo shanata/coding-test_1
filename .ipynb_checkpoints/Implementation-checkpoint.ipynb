{
 "cells": [
  {
   "cell_type": "markdown",
   "id": "23e449b6",
   "metadata": {
    "ExecuteTime": {
     "end_time": "2022-06-14T05:19:27.757233Z",
     "start_time": "2022-06-14T05:19:27.743793Z"
    }
   },
   "source": [
    "# 구현"
   ]
  },
  {
   "cell_type": "markdown",
   "id": "ad7ecf48",
   "metadata": {
    "ExecuteTime": {
     "end_time": "2022-06-14T05:19:06.391899Z",
     "start_time": "2022-06-14T05:19:06.387905Z"
    }
   },
   "source": [
    "## 예제 4-1"
   ]
  },
  {
   "cell_type": "code",
   "execution_count": 20,
   "id": "19ae0c90",
   "metadata": {
    "ExecuteTime": {
     "end_time": "2022-06-14T05:22:49.458215Z",
     "start_time": "2022-06-14T05:22:48.052554Z"
    }
   },
   "outputs": [
    {
     "name": "stdout",
     "output_type": "stream",
     "text": [
      "5\n",
      "R R R U D D\n",
      "3 4\n"
     ]
    }
   ],
   "source": [
    "n = int(input())\n",
    "lst = input().split()\n",
    "\n",
    "[x,y] = [1,1]\n",
    "command = {'L':[0,-1],'R':[0,1],'U':[-1,0],'D':[1,0]}\n",
    "while bool(len(lst)):\n",
    "    plan = lst[0]\n",
    "        \n",
    "    [x_,y_]=command[plan]\n",
    "    if (1<=x+x_<=n) & (1<=y+y_<=n):\n",
    "        x = x+x_\n",
    "        y = y+y_ \n",
    "    else:\n",
    "        pass\n",
    "    if len(lst) == 1:\n",
    "        lst = []\n",
    "    else:\n",
    "        lst = lst[1:]\n",
    "\n",
    "print (x, y)\n",
    "    "
   ]
  },
  {
   "cell_type": "code",
   "execution_count": 21,
   "id": "daba3f1d",
   "metadata": {
    "ExecuteTime": {
     "end_time": "2022-06-14T05:26:18.922744Z",
     "start_time": "2022-06-14T05:26:15.551949Z"
    }
   },
   "outputs": [
    {
     "name": "stdout",
     "output_type": "stream",
     "text": [
      "5\n",
      "R R R U D D\n",
      "3 4\n"
     ]
    }
   ],
   "source": [
    "# 답변 예시\n",
    "n = int(input())\n",
    "x,y = 1,1\n",
    "plans = input().split()\n",
    "\n",
    "dx = [0,0,-1,1]\n",
    "dy = [-1,1,0,0]\n",
    "move_types = ['L','R','U','D']\n",
    "\n",
    "for plan in plans:\n",
    "    for i in range(len(move_types)):\n",
    "        if plan == move_types[i]:\n",
    "            nx = x + dx[i]\n",
    "            ny = y + dy[i]\n",
    "    if nx < 1 or ny < 1 or nx > n or ny > n:\n",
    "        continue\n",
    "    \n",
    "    x, y = nx, ny\n",
    "    \n",
    "print(x, y)"
   ]
  },
  {
   "cell_type": "markdown",
   "id": "d5241cd4",
   "metadata": {
    "ExecuteTime": {
     "end_time": "2022-06-14T05:26:32.051711Z",
     "start_time": "2022-06-14T05:26:32.043752Z"
    }
   },
   "source": [
    "## 예제 4-2"
   ]
  },
  {
   "cell_type": "code",
   "execution_count": 24,
   "id": "3f2bd57b",
   "metadata": {
    "ExecuteTime": {
     "end_time": "2022-06-14T05:34:42.810168Z",
     "start_time": "2022-06-14T05:34:42.791827Z"
    }
   },
   "outputs": [
    {
     "data": {
      "text/plain": [
       "'105'"
      ]
     },
     "execution_count": 24,
     "metadata": {},
     "output_type": "execute_result"
    }
   ],
   "source": [
    "str(10)+str(5)"
   ]
  },
  {
   "cell_type": "code",
   "execution_count": 27,
   "id": "8be484f6",
   "metadata": {
    "ExecuteTime": {
     "end_time": "2022-06-14T05:36:22.514549Z",
     "start_time": "2022-06-14T05:36:21.795579Z"
    }
   },
   "outputs": [
    {
     "name": "stdout",
     "output_type": "stream",
     "text": [
      "5\n",
      "11475\n"
     ]
    }
   ],
   "source": [
    "n = int(input())\n",
    "# 총 계산해야 하는 초 : n * 3600 + 59 * 60 + 59\n",
    "total_sec = n*3600 + 59*60 + 59\n",
    "count = 0\n",
    "for i in range(total_sec):\n",
    "    #시\n",
    "    h = i // 3600\n",
    "    i = i - h * 3600\n",
    "    #분\n",
    "    m = i // 60\n",
    "    i = i - m*60\n",
    "    #초\n",
    "    s = i\n",
    "    if '3' in str(h)+str(m)+str(s):\n",
    "        count += 1\n",
    "print(count)"
   ]
  },
  {
   "cell_type": "code",
   "execution_count": 28,
   "id": "a03365cb",
   "metadata": {
    "ExecuteTime": {
     "end_time": "2022-06-14T05:38:36.261135Z",
     "start_time": "2022-06-14T05:38:35.396666Z"
    }
   },
   "outputs": [
    {
     "name": "stdout",
     "output_type": "stream",
     "text": [
      "5\n",
      "11475\n"
     ]
    }
   ],
   "source": [
    "#답변예시\n",
    "h = int(input())\n",
    "count = 0\n",
    "for i in range(h+1):\n",
    "    for j in range(60):\n",
    "        for k in range(60):\n",
    "            if '3' in str(i)+ str(j)+str(k):\n",
    "                count += 1\n",
    "print(count)\n",
    "                "
   ]
  },
  {
   "cell_type": "markdown",
   "id": "ef89d05f",
   "metadata": {
    "ExecuteTime": {
     "end_time": "2022-06-14T05:39:15.492906Z",
     "start_time": "2022-06-14T05:39:15.480008Z"
    }
   },
   "source": [
    "## 실전문제 "
   ]
  },
  {
   "cell_type": "code",
   "execution_count": 30,
   "id": "18c20f0c",
   "metadata": {
    "ExecuteTime": {
     "end_time": "2022-06-14T06:08:15.426969Z",
     "start_time": "2022-06-14T06:08:08.405487Z"
    }
   },
   "outputs": [
    {
     "name": "stdout",
     "output_type": "stream",
     "text": [
      "a1\n",
      "2\n"
     ]
    }
   ],
   "source": [
    "location = input()\n",
    "x = ord(location[0]) - 96\n",
    "y = int(location[1])\n",
    "count = 0\n",
    "paths = [[2,1],[2,-1],[-2,1],[-2,-1],[1,2],[-1,2],[1,-2],[-1,-2]]\n",
    "for path in paths:\n",
    "    xd , yd = path\n",
    "    if (0<x+xd<9) & (0<y+yd<9):\n",
    "        count += 1\n",
    "print(count)"
   ]
  },
  {
   "cell_type": "code",
   "execution_count": 31,
   "id": "6fb5fa07",
   "metadata": {
    "ExecuteTime": {
     "end_time": "2022-06-14T06:14:23.060129Z",
     "start_time": "2022-06-14T06:14:21.821375Z"
    }
   },
   "outputs": [
    {
     "name": "stdout",
     "output_type": "stream",
     "text": [
      "a1\n",
      "2\n"
     ]
    }
   ],
   "source": [
    "#정답예시\n",
    "input_data = input()\n",
    "row = int(input_data[1])\n",
    "column = int(ord(input_data[0]))-int(ord('a'))+1\n",
    "\n",
    "steps = [(-2,-1),(-1,-2),(1,-2),(2,-1),(2,1),(1,2),(-1,2),(-2,1)]\n",
    "\n",
    "result = 0\n",
    "for step in steps:\n",
    "    next_row = row + step[0]\n",
    "    next_column = column + step[1]\n",
    "    \n",
    "    if next_row >= 1 and next_row <= 8 and next_column >= 1 and next_column <= 8:\n",
    "        result += 1\n",
    "print(result)"
   ]
  },
  {
   "cell_type": "markdown",
   "id": "3ac7d215",
   "metadata": {},
   "source": [
    "## 실전문제 2"
   ]
  },
  {
   "cell_type": "code",
   "execution_count": 47,
   "id": "b7dd9333",
   "metadata": {
    "ExecuteTime": {
     "end_time": "2022-06-14T07:27:26.852488Z",
     "start_time": "2022-06-14T07:27:10.671123Z"
    }
   },
   "outputs": [
    {
     "name": "stdout",
     "output_type": "stream",
     "text": [
      "4 4\n",
      "1 1 0\n",
      "1 1 1 1\n",
      "1 0 0 1\n",
      "1 1 0 1\n",
      "1 1 1 1\n",
      "3\n"
     ]
    }
   ],
   "source": [
    "n, m = map(int,input().split())\n",
    "a, b, d = map(int,input().split())\n",
    "lands = []\n",
    "for _ in range(n):\n",
    "    land = list(map(int,input().split()))\n",
    "    lands.append(land)\n",
    "direction = {0:[-1,0],1:[0,1],2:[1,0],3:[0,-1]}\n",
    "around = [(-1,0),(1,0),(0,1),(0,-1)]\n",
    "\n",
    "count = 0\n",
    "def turn(d,t):\n",
    "    d -= t\n",
    "    if d == -1:\n",
    "        d = 3\n",
    "    if d == -2:\n",
    "        d = 2\n",
    "    return d\n",
    "def move_forward(a,b,d):\n",
    "    xd , yd = direction[d]\n",
    "    a = a+xd\n",
    "    b = b+yd\n",
    "    return a,b\n",
    "\n",
    "def move_backward(a,b,d):\n",
    "    d = turn(d,2)\n",
    "    xd , yd = direction[d]\n",
    "    a = a+xd\n",
    "    b = b+yd\n",
    "    d = turn(d,2)\n",
    "    return a,b\n",
    "\n",
    "\n",
    "while True:\n",
    "    move_or_not = 0\n",
    "    for _ in range(4):\n",
    "        d = turn(d,1)\n",
    "        xd, yd = direction[d]\n",
    "        x = a+ xd\n",
    "        y = b + yd\n",
    "        if lands[x][y] == 0:\n",
    "            a,b = move_forward(a,b,d)  \n",
    "            move_or_not = 1\n",
    "            lands[a][b] = 2\n",
    "            count += 1\n",
    "            break\n",
    "        \n",
    "        \n",
    "    if move_or_not == 0:\n",
    "        a,b = move_backward(a,b,d)\n",
    "        if lands[a][b] == 1:\n",
    "            a,b = move_forward(a,b,d)\n",
    "            a,b = move_forward(a,b,d)\n",
    "            break\n",
    "    \n",
    "        \n",
    "print(count)\n",
    "        \n",
    "            \n",
    "            "
   ]
  },
  {
   "cell_type": "code",
   "execution_count": 49,
   "id": "146b0a3a",
   "metadata": {
    "ExecuteTime": {
     "end_time": "2022-06-14T07:57:08.710816Z",
     "start_time": "2022-06-14T07:56:57.534746Z"
    }
   },
   "outputs": [
    {
     "name": "stdout",
     "output_type": "stream",
     "text": [
      "4 4\n",
      "1 1 0\n",
      "1 1 1 1\n",
      "1 0 0 1\n",
      "1 1 0 1\n",
      "1 1 1 1\n",
      "3\n"
     ]
    }
   ],
   "source": [
    "# 답안 예시\n",
    "n, m = map(int, input().split())\n",
    "d = [[0]* m for _ in range(n)]\n",
    "x,y,direction = map(int,input().split())\n",
    "d[x][y] = 1\n",
    "\n",
    "array = []\n",
    "for i in range(n):\n",
    "    array.append(list(map(int, input().split())))\n",
    "dx = [-1, 0, 1, 0]\n",
    "dy = [0, 1, 0, -1]\n",
    "\n",
    "def turn_left():\n",
    "    global direction\n",
    "    direction -= 1\n",
    "    if direction == -1:\n",
    "        direction = 3\n",
    "count = 1\n",
    "turn_time = 0\n",
    "while True:\n",
    "    turn_left()\n",
    "    nx = x + dx[direction]\n",
    "    ny = y + dy[direction]\n",
    "    \n",
    "    if d[nx][ny] == 0 and array[nx][ny] == 0:\n",
    "        d[nx][ny] = 1\n",
    "        x = nx\n",
    "        y = ny\n",
    "        count += 1\n",
    "        turn_time = 0\n",
    "        continue\n",
    "    else:\n",
    "        turn_time += 1\n",
    "    if turn_time == 4:\n",
    "        nx = x - dx[direction]\n",
    "        ny = y - dy[direction]\n",
    "        \n",
    "        if array[nx][ny] == 0:\n",
    "            x = nx\n",
    "            y = ny\n",
    "        else:\n",
    "            break\n",
    "        turn_time = 0\n",
    "print(count)"
   ]
  },
  {
   "cell_type": "code",
   "execution_count": null,
   "id": "581923be",
   "metadata": {},
   "outputs": [],
   "source": []
  }
 ],
 "metadata": {
  "kernelspec": {
   "display_name": "Python 3",
   "language": "python",
   "name": "python3"
  },
  "language_info": {
   "codemirror_mode": {
    "name": "ipython",
    "version": 3
   },
   "file_extension": ".py",
   "mimetype": "text/x-python",
   "name": "python",
   "nbconvert_exporter": "python",
   "pygments_lexer": "ipython3",
   "version": "3.8.8"
  },
  "toc": {
   "base_numbering": 1,
   "nav_menu": {},
   "number_sections": true,
   "sideBar": true,
   "skip_h1_title": false,
   "title_cell": "Table of Contents",
   "title_sidebar": "Contents",
   "toc_cell": false,
   "toc_position": {},
   "toc_section_display": true,
   "toc_window_display": false
  },
  "varInspector": {
   "cols": {
    "lenName": 16,
    "lenType": 16,
    "lenVar": 40
   },
   "kernels_config": {
    "python": {
     "delete_cmd_postfix": "",
     "delete_cmd_prefix": "del ",
     "library": "var_list.py",
     "varRefreshCmd": "print(var_dic_list())"
    },
    "r": {
     "delete_cmd_postfix": ") ",
     "delete_cmd_prefix": "rm(",
     "library": "var_list.r",
     "varRefreshCmd": "cat(var_dic_list()) "
    }
   },
   "types_to_exclude": [
    "module",
    "function",
    "builtin_function_or_method",
    "instance",
    "_Feature"
   ],
   "window_display": false
  }
 },
 "nbformat": 4,
 "nbformat_minor": 5
}
