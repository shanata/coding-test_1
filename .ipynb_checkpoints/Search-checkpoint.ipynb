{
 "cells": [
  {
   "cell_type": "markdown",
   "id": "69aed09e",
   "metadata": {},
   "source": [
    "# 탐색 알고리즘 개요"
   ]
  },
  {
   "cell_type": "markdown",
   "id": "df8291f4",
   "metadata": {
    "ExecuteTime": {
     "end_time": "2022-06-17T01:36:08.634632Z",
     "start_time": "2022-06-17T01:36:08.626654Z"
    }
   },
   "source": [
    "## 순차 탐색\n",
    "시간 복잡도 O(N)"
   ]
  },
  {
   "cell_type": "code",
   "execution_count": 3,
   "id": "fd1b7287",
   "metadata": {
    "ExecuteTime": {
     "end_time": "2022-06-17T01:39:40.654522Z",
     "start_time": "2022-06-17T01:39:18.496109Z"
    }
   },
   "outputs": [
    {
     "name": "stdout",
     "output_type": "stream",
     "text": [
      "생성할 원소 개수를 입력한 다음 한 칸 띄고 찾을 문자열을 입력하세요.\n",
      "5 Dongbin\n",
      "앞서 적은 원소 개수만큼 문자열을 입력하세요. 구분은 띄어쓰기 한 칸으로 합니다.\n",
      "Hanul Jonggu Dongbin Taeil Sangwook\n",
      "3\n"
     ]
    }
   ],
   "source": [
    "#순차 탐색 소스코드 구현\n",
    "def sequential_search(n, target, array):\n",
    "    for i in range(n):\n",
    "        if array[i] == target:\n",
    "            return i + 1\n",
    "\n",
    "print(\"생성할 원소 개수를 입력한 다음 한 칸 띄고 찾을 문자열을 입력하세요.\")\n",
    "input_data = input().split()\n",
    "n = int(input_data[0])\n",
    "target = input_data[1]\n",
    "\n",
    "print(\"앞서 적은 원소 개수만큼 문자열을 입력하세요. 구분은 띄어쓰기 한 칸으로 합니다.\")\n",
    "array = input().split()\n",
    "\n",
    "print(sequential_search(n, target, array))"
   ]
  },
  {
   "cell_type": "markdown",
   "id": "9b719c95",
   "metadata": {
    "ExecuteTime": {
     "end_time": "2022-06-17T01:41:00.606489Z",
     "start_time": "2022-06-17T01:41:00.600510Z"
    }
   },
   "source": [
    "## 이진탐색\n",
    "시간 복잡도 O(logN)"
   ]
  },
  {
   "cell_type": "markdown",
   "id": "ad504260",
   "metadata": {},
   "source": [
    "배열 내부 데이터가 정렬되어 있어야만 사용할 수 있다.\n",
    "범위의 시작과 끝점, 중간점을 변수로 필요로 함.\n",
    "중간점이 실수일 때는 소수점 이하를 버린다."
   ]
  },
  {
   "cell_type": "code",
   "execution_count": 6,
   "id": "720c53a2",
   "metadata": {
    "ExecuteTime": {
     "end_time": "2022-06-17T01:52:18.007920Z",
     "start_time": "2022-06-17T01:51:39.384118Z"
    }
   },
   "outputs": [
    {
     "name": "stdout",
     "output_type": "stream",
     "text": [
      "10 7\n",
      "1 3 5 7 9 11 13 15 17 19\n",
      "4\n"
     ]
    }
   ],
   "source": [
    "# 이진 탐색 소스코드 구현(재귀 함수)\n",
    "def binary_search(array, target, start, end):\n",
    "    if start > end:\n",
    "        return None\n",
    "    mid = (start + end) // 2\n",
    "    if array[mid] == target:\n",
    "        return mid\n",
    "\n",
    "    elif array[mid] > target:\n",
    "        return binary_search(array, target, start, mid-1)\n",
    "    else:\n",
    "        return binary_search(array, target, mid+1, end)\n",
    "\n",
    "\n",
    "n, target = list(map(int, input().split()))\n",
    "\n",
    "array = list(map(int, input().split()))\n",
    "\n",
    "result = binary_search(array, target, 0, n-1)\n",
    "if result == None:\n",
    "    print(\"원소가 존재하지 않습니다.\")\n",
    "else:\n",
    "    print(result + 1)"
   ]
  },
  {
   "cell_type": "code",
   "execution_count": 7,
   "id": "823da768",
   "metadata": {
    "ExecuteTime": {
     "end_time": "2022-06-17T02:14:15.708768Z",
     "start_time": "2022-06-17T02:14:04.635365Z"
    }
   },
   "outputs": [
    {
     "name": "stdout",
     "output_type": "stream",
     "text": [
      "10 7\n",
      "1 3 5 7 9 11 13 15 17\n",
      "4\n"
     ]
    }
   ],
   "source": [
    "# 반복문으로 구현한 이진 탐색\n",
    "def binary_search(array, target, start, end):\n",
    "    while start <= end:\n",
    "        mid = (start + end) // 2\n",
    "        if array[mid] == target:\n",
    "            return mid\n",
    "        elif array[mid] > target:\n",
    "            end = mid - 1\n",
    "        else:\n",
    "            start = mid + 1\n",
    "    return None\n",
    "\n",
    "\n",
    "n, target = list(map(int, input().split()))\n",
    "\n",
    "array = list(map(int, input().split()))\n",
    "\n",
    "result = binary_search(array, target, 0, n-1)\n",
    "if result == None:\n",
    "    print(\"원소가 존재하지 않습니다.\")\n",
    "else:\n",
    "    print(result + 1)"
   ]
  },
  {
   "cell_type": "markdown",
   "id": "7f9637da",
   "metadata": {},
   "source": [
    "# 트리 자료구조에서의 이진 탐색 트리"
   ]
  },
  {
   "cell_type": "markdown",
   "id": "36e1600c",
   "metadata": {},
   "source": [
    "이진 탐색 트리의 특징  \n",
    "부모 노드보다 왼쪽 자식 노드가 작다.  \n",
    "부모 노드보다 오른쪽 자식 노드가 크다.  "
   ]
  },
  {
   "cell_type": "markdown",
   "id": "10f6a1fd",
   "metadata": {},
   "source": [
    "## 빠르게 입력받기"
   ]
  },
  {
   "cell_type": "code",
   "execution_count": 8,
   "id": "7567e0ea",
   "metadata": {
    "ExecuteTime": {
     "end_time": "2022-06-17T02:26:00.077881Z",
     "start_time": "2022-06-17T02:26:00.069920Z"
    }
   },
   "outputs": [
    {
     "name": "stdout",
     "output_type": "stream",
     "text": [
      "\n"
     ]
    }
   ],
   "source": [
    "# 한 줄 입력받아 출력하는 소스코드\n",
    "import sys\n",
    "\n",
    "input_data = sys.stdin.readline().rstrip()\n",
    "\n",
    "print(input_data)"
   ]
  },
  {
   "cell_type": "markdown",
   "id": "ab69e42b",
   "metadata": {},
   "source": [
    "# 실전문제 풀이"
   ]
  },
  {
   "cell_type": "markdown",
   "id": "bd6f0107",
   "metadata": {},
   "source": [
    "## 부품 찾기"
   ]
  },
  {
   "cell_type": "code",
   "execution_count": 24,
   "id": "7b6e0ebd",
   "metadata": {
    "ExecuteTime": {
     "end_time": "2022-06-17T02:50:28.150917Z",
     "start_time": "2022-06-17T02:50:18.880473Z"
    }
   },
   "outputs": [
    {
     "name": "stdout",
     "output_type": "stream",
     "text": [
      "5 \n",
      "8 3 7 9 2\n",
      "3\n",
      "5 7 9\n",
      "No Yes Yes "
     ]
    }
   ],
   "source": [
    "n = int(input())\n",
    "array = list(map(int, input().split()))\n",
    "m = int(input())\n",
    "targets = list(map(int, input().split()))\n",
    "\n",
    "\n",
    "def binary_search(array, target, start, end):\n",
    "    if start > end:\n",
    "        return None\n",
    "    mid = (start+end) // 2\n",
    "    if target == array[mid]:\n",
    "        return mid\n",
    "    elif target > array[mid]:\n",
    "        return binary_search(array, target, mid+1, end)\n",
    "    elif target < array[mid]:\n",
    "        return binary_search(array, target, start, mid-1)\n",
    "\n",
    "\n",
    "array = sorted(array)\n",
    "index_list = []\n",
    "for target in targets:\n",
    "    result = binary_search(array, target, 0, n-1)\n",
    "    if result == None:\n",
    "        index_list.append(\"No\")\n",
    "    elif result+1:\n",
    "        index_list.append(\"Yes\")\n",
    "\n",
    "for index_ in index_list:\n",
    "    print(index_, end=\" \")"
   ]
  },
  {
   "cell_type": "code",
   "execution_count": 25,
   "id": "69fa314e",
   "metadata": {
    "ExecuteTime": {
     "end_time": "2022-06-17T07:05:38.399477Z",
     "start_time": "2022-06-17T07:05:28.704261Z"
    }
   },
   "outputs": [
    {
     "name": "stdout",
     "output_type": "stream",
     "text": [
      "5\n",
      "8 3 7 9 2\n",
      "3\n",
      "5 7 9\n",
      "No yes yes "
     ]
    }
   ],
   "source": [
    "# 답안예시 이진 탐색\n",
    "\n",
    "def binary_search(array, target, start, end):\n",
    "    while start <= end:\n",
    "        mid = (start+end) // 2\n",
    "        if array[mid] == target:\n",
    "            return mid\n",
    "        elif array[mid] > target:\n",
    "            end = mid -1\n",
    "        else:\n",
    "            start = mid + 1\n",
    "    return None\n",
    "\n",
    "n = int(input())\n",
    "array = list(map(int, input().split()))\n",
    "array.sort()\n",
    "\n",
    "m = int(input())\n",
    "\n",
    "x = list(map(int, input().split()))\n",
    "\n",
    "for i in x:\n",
    "    result = binary_search(array, i, 0, n-1)\n",
    "    if result != None:\n",
    "        print('Yes', end=' ')\n",
    "    else:\n",
    "        print('No', end=' ')"
   ]
  },
  {
   "cell_type": "code",
   "execution_count": 26,
   "id": "92d0cc9b",
   "metadata": {
    "ExecuteTime": {
     "end_time": "2022-06-17T07:07:49.777801Z",
     "start_time": "2022-06-17T07:07:41.375365Z"
    }
   },
   "outputs": [
    {
     "name": "stdout",
     "output_type": "stream",
     "text": [
      "5\n",
      "8 3 7 9 2\n",
      "3\n",
      "5 7 9\n",
      "No Yes Yes "
     ]
    }
   ],
   "source": [
    "# 답안예시(계수 정렬)\n",
    "\n",
    "n = int(input())\n",
    "array = [0] * 1000001\n",
    "\n",
    "for i in input().split():\n",
    "    array[int(i)] = 1\n",
    "    \n",
    "m = int(input())\n",
    "\n",
    "x = list(map(int, input().split()))\n",
    "\n",
    "for i in x:\n",
    "    \n",
    "    if array[i] == 1:\n",
    "        print('Yes', end=' ')\n",
    "    else:\n",
    "        print('No', end=' ')"
   ]
  },
  {
   "cell_type": "code",
   "execution_count": 27,
   "id": "92728a58",
   "metadata": {
    "ExecuteTime": {
     "end_time": "2022-06-17T07:09:54.566973Z",
     "start_time": "2022-06-17T07:09:45.120795Z"
    }
   },
   "outputs": [
    {
     "name": "stdout",
     "output_type": "stream",
     "text": [
      "5\n",
      "8 3 7 9 2\n",
      "3 \n",
      "5 7 9\n",
      "no yes yes "
     ]
    }
   ],
   "source": [
    "# 집합 자료형 이용\n",
    "\n",
    "n = int(input())\n",
    "\n",
    "array = set(map(int, input().split()))\n",
    "\n",
    "m = int(input())\n",
    "\n",
    "x = list(map(int, input().split()))\n",
    "\n",
    "for i in x:\n",
    "    if i in array:\n",
    "        print('yes', end= ' ')\n",
    "    else:\n",
    "        print('no', end=' ')"
   ]
  },
  {
   "cell_type": "code",
   "execution_count": 28,
   "id": "90973172",
   "metadata": {
    "ExecuteTime": {
     "end_time": "2022-06-17T07:10:30.231215Z",
     "start_time": "2022-06-17T07:10:23.671534Z"
    }
   },
   "outputs": [
    {
     "name": "stdout",
     "output_type": "stream",
     "text": [
      "5\n",
      "8 3 7 9 2\n",
      "3\n",
      "5 7 9\n",
      "no yes yes "
     ]
    }
   ],
   "source": [
    "n = int(input())\n",
    "\n",
    "array = list(map(int, input().split()))\n",
    "\n",
    "m = int(input())\n",
    "\n",
    "x = list(map(int, input().split()))\n",
    "\n",
    "for i in x:\n",
    "    if i in array:\n",
    "        print('yes', end= ' ')\n",
    "    else:\n",
    "        print('no', end=' ')"
   ]
  },
  {
   "cell_type": "markdown",
   "id": "abcc74d9",
   "metadata": {},
   "source": [
    "## 떡볶이 떡 만들기"
   ]
  },
  {
   "cell_type": "code",
   "execution_count": 32,
   "id": "f9cdabec",
   "metadata": {
    "ExecuteTime": {
     "end_time": "2022-06-17T07:33:03.495110Z",
     "start_time": "2022-06-17T07:32:57.007672Z"
    }
   },
   "outputs": [
    {
     "name": "stdout",
     "output_type": "stream",
     "text": [
      "4 6\n",
      "19 15 10 17\n",
      "15\n"
     ]
    }
   ],
   "source": [
    "n, m = map(int, input().split())\n",
    "array = list(map(int, input().split()))\n",
    "array = sorted(array, reverse=True)\n",
    "h = array[0] - m # h의 최솟값\n",
    "len_sum = 0\n",
    "while True:\n",
    "    for i in array:\n",
    "        len_sum = len_sum + (i-h)\n",
    "    if len_sum == m:\n",
    "        print(h)\n",
    "        break\n",
    "    elif len_sum >m:\n",
    "        h += 1\n",
    "        len_sum = 0\n",
    "        continue"
   ]
  },
  {
   "cell_type": "code",
   "execution_count": 41,
   "id": "30a5a677",
   "metadata": {
    "ExecuteTime": {
     "end_time": "2022-06-17T07:58:40.617037Z",
     "start_time": "2022-06-17T07:58:31.799932Z"
    }
   },
   "outputs": [
    {
     "name": "stdout",
     "output_type": "stream",
     "text": [
      "4 6\n",
      "19 15 10 17\n",
      "15\n"
     ]
    }
   ],
   "source": [
    "# 답안 예시\n",
    "n, m = list(map(int, input().split(' ')))\n",
    "array = list(map(int, input().split()))\n",
    "\n",
    "\n",
    "start = 0\n",
    "end = max(array)\n",
    "\n",
    "result = 0\n",
    "while(start <= end):\n",
    "    total = 0\n",
    "    mid = (start + end) // 2\n",
    "    for x in array:\n",
    "        if x > mid:\n",
    "            total += x - mid\n",
    "    if total < m:\n",
    "        end = mid -1\n",
    "    else:\n",
    "        result = mid\n",
    "        start = mid + 1\n",
    "    \n",
    "print(result)"
   ]
  },
  {
   "cell_type": "code",
   "execution_count": 37,
   "id": "25fda21e",
   "metadata": {
    "ExecuteTime": {
     "end_time": "2022-06-17T07:55:13.375585Z",
     "start_time": "2022-06-17T07:55:13.358636Z"
    }
   },
   "outputs": [
    {
     "ename": "SyntaxError",
     "evalue": "unexpected EOF while parsing (<ipython-input-37-ee2d63001e23>, line 20)",
     "output_type": "error",
     "traceback": [
      "\u001b[1;36m  File \u001b[1;32m\"<ipython-input-37-ee2d63001e23>\"\u001b[1;36m, line \u001b[1;32m20\u001b[0m\n\u001b[1;33m    \u001b[0m\n\u001b[1;37m    ^\u001b[0m\n\u001b[1;31mSyntaxError\u001b[0m\u001b[1;31m:\u001b[0m unexpected EOF while parsing\n"
     ]
    }
   ],
   "source": [
    "# 이진 탐색 개념을 보고 직접 다시 짜보기\n",
    "n, m = map(int, input().split())\n",
    "array = list(map(int, input().split()))\n",
    "array = sorted(array)\n",
    "h = array[-1] - m\n",
    "\n",
    "def binary_search(array,m,h):\n",
    "    len_sum = 0\n",
    "    if start > end:\n",
    "        return None\n",
    "    for i in array:\n",
    "        if i > h:\n",
    "            len_sum = len_sum + (i-h)\n",
    "    if len_sum == m:\n",
    "        return h\n",
    "    elif len_sum > m:\n",
    "        h = (h+array[-1]) //2\n",
    "        return binary_search(array,m,h)\n",
    "    elif len_sum < m:\n",
    "        "
   ]
  },
  {
   "cell_type": "code",
   "execution_count": null,
   "id": "2028c11d",
   "metadata": {},
   "outputs": [],
   "source": []
  }
 ],
 "metadata": {
  "kernelspec": {
   "display_name": "Python 3",
   "language": "python",
   "name": "python3"
  },
  "language_info": {
   "codemirror_mode": {
    "name": "ipython",
    "version": 3
   },
   "file_extension": ".py",
   "mimetype": "text/x-python",
   "name": "python",
   "nbconvert_exporter": "python",
   "pygments_lexer": "ipython3",
   "version": "3.8.8"
  },
  "toc": {
   "base_numbering": 1,
   "nav_menu": {},
   "number_sections": true,
   "sideBar": true,
   "skip_h1_title": false,
   "title_cell": "Table of Contents",
   "title_sidebar": "Contents",
   "toc_cell": false,
   "toc_position": {},
   "toc_section_display": true,
   "toc_window_display": false
  },
  "varInspector": {
   "cols": {
    "lenName": 16,
    "lenType": 16,
    "lenVar": 40
   },
   "kernels_config": {
    "python": {
     "delete_cmd_postfix": "",
     "delete_cmd_prefix": "del ",
     "library": "var_list.py",
     "varRefreshCmd": "print(var_dic_list())"
    },
    "r": {
     "delete_cmd_postfix": ") ",
     "delete_cmd_prefix": "rm(",
     "library": "var_list.r",
     "varRefreshCmd": "cat(var_dic_list()) "
    }
   },
   "types_to_exclude": [
    "module",
    "function",
    "builtin_function_or_method",
    "instance",
    "_Feature"
   ],
   "window_display": false
  }
 },
 "nbformat": 4,
 "nbformat_minor": 5
}
