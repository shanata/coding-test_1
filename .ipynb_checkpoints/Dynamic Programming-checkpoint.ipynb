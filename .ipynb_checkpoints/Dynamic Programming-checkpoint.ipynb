{
 "cells": [
  {
   "cell_type": "markdown",
   "id": "38ca873d",
   "metadata": {},
   "source": [
    "# 다이나믹 프로그래밍"
   ]
  },
  {
   "cell_type": "markdown",
   "id": "a777a234",
   "metadata": {},
   "source": [
    "## 예제 피보나치 수열"
   ]
  },
  {
   "cell_type": "code",
   "execution_count": 1,
   "id": "e9e527a1",
   "metadata": {
    "ExecuteTime": {
     "end_time": "2022-06-20T05:35:44.191130Z",
     "start_time": "2022-06-20T05:35:44.180161Z"
    }
   },
   "outputs": [
    {
     "name": "stdout",
     "output_type": "stream",
     "text": [
      "3\n"
     ]
    }
   ],
   "source": [
    "def fibo(x):\n",
    "    if x== 1 or x==2:\n",
    "        return 1\n",
    "    return fibo(x -1) + fibo(x -2)\n",
    "\n",
    "print(fibo(4))"
   ]
  },
  {
   "cell_type": "code",
   "execution_count": 2,
   "id": "9c17d42f",
   "metadata": {
    "ExecuteTime": {
     "end_time": "2022-06-20T05:40:32.790237Z",
     "start_time": "2022-06-20T05:40:32.771108Z"
    }
   },
   "outputs": [
    {
     "name": "stdout",
     "output_type": "stream",
     "text": [
      "218922995834555169026\n"
     ]
    }
   ],
   "source": [
    "# 다이나믹 프로그래밍으로 계산 하는 방법\n",
    "# 탑다운방식 (재귀함수 활용)\n",
    "d = [0] * 100\n",
    "\n",
    "def fibo(x):\n",
    "    if x ==1 or x == 2:\n",
    "        return 1\n",
    "    if d[x] !=0:\n",
    "        return d[x]\n",
    "    d[x] = fibo(x-1) +fibo(x-2)\n",
    "    return d[x]\n",
    "\n",
    "print(fibo(99))"
   ]
  },
  {
   "cell_type": "code",
   "execution_count": 3,
   "id": "8cba9cc0",
   "metadata": {
    "ExecuteTime": {
     "end_time": "2022-06-20T05:42:59.346445Z",
     "start_time": "2022-06-20T05:42:59.335363Z"
    }
   },
   "outputs": [
    {
     "name": "stdout",
     "output_type": "stream",
     "text": [
      "f(6) f(5) f(4) f(3) f(2) f(1) f(2) f(3) f(4) 8\n"
     ]
    }
   ],
   "source": [
    "d = [0] * 100\n",
    "\n",
    "def fibo(x):\n",
    "    print('f(' + str(x) +')', end=' ')\n",
    "    if x ==1 or x == 2:\n",
    "        return 1\n",
    "    if d[x] !=0:\n",
    "        return d[x]\n",
    "    d[x] = fibo(x-1) +fibo(x-2)\n",
    "    return d[x]\n",
    "\n",
    "print(fibo(6))"
   ]
  },
  {
   "cell_type": "code",
   "execution_count": 4,
   "id": "ed15507e",
   "metadata": {
    "ExecuteTime": {
     "end_time": "2022-06-20T05:44:55.011013Z",
     "start_time": "2022-06-20T05:44:54.989906Z"
    }
   },
   "outputs": [
    {
     "name": "stdout",
     "output_type": "stream",
     "text": [
      "218922995834555169026\n"
     ]
    }
   ],
   "source": [
    "# 바텀 업 방식(반복문 활용)\n",
    "d = [0] * 100\n",
    "\n",
    "d[1] = 1\n",
    "d[2] = 1\n",
    "n = 99\n",
    "\n",
    "for i in range(3, n+1):\n",
    "        d[i] = d[i -1] + d[i-2]\n",
    "        \n",
    "print(d[n])"
   ]
  },
  {
   "cell_type": "markdown",
   "id": "57124d84",
   "metadata": {},
   "source": [
    "## 실전문제 1"
   ]
  },
  {
   "cell_type": "code",
   "execution_count": 89,
   "id": "c2394002",
   "metadata": {
    "ExecuteTime": {
     "end_time": "2022-06-20T14:39:11.168001Z",
     "start_time": "2022-06-20T14:39:09.859829Z"
    }
   },
   "outputs": [
    {
     "name": "stdout",
     "output_type": "stream",
     "text": [
      "2000\n",
      "6\n"
     ]
    }
   ],
   "source": [
    "num = int(input())\n",
    "\n",
    "# 5^a + 3^b + 2^c +1 = x\n",
    "d = [0] * 30001\n",
    "\n",
    "switch = [1] * 30001\n",
    "\n",
    "\n",
    "def f(x):\n",
    "    if x == 1 or x == 0:\n",
    "        return\n",
    "    if d[x] != 0:\n",
    "        return\n",
    "\n",
    "    if x % 2 == 0:\n",
    "\n",
    "        f(x//2)\n",
    "        switch[x] *= 2\n",
    "\n",
    "    if x % 3 == 0:\n",
    "        f(x//3)\n",
    "        switch[x] *= 3\n",
    "\n",
    "    if x % 5 == 0:\n",
    "        f(x//5)\n",
    "        switch[x] *= 5\n",
    "\n",
    "    if x >= 2:\n",
    "        f(x-1)\n",
    "        switch[x] *= 7\n",
    "\n",
    "    check_list = [0, 0, 0, 0]\n",
    "    if switch[x] % 2 == 0:\n",
    "        check_list[0] = 1\n",
    "    if switch[x] % 3 == 0:\n",
    "        check_list[1] = 1\n",
    "    if switch[x] % 5 == 0:\n",
    "        check_list[2] = 1\n",
    "    if switch[x] % 7 == 0:\n",
    "        check_list[3] = 1\n",
    "\n",
    "    min_list = [(d[x//2]+1)*check_list[0], (d[x//3]+1)*check_list[1],\n",
    "                (d[x//5]+1)*check_list[2], (d[x-1]+1)*check_list[3]]\n",
    "\n",
    "    try:\n",
    "        while True:\n",
    "            min_list.remove(0)\n",
    "    except:\n",
    "        pass\n",
    "\n",
    "    d[x] = min(min_list)\n",
    "\n",
    "\n",
    "# 답안 예시를 재귀함수로 구해보기\n",
    "f(num)\n",
    "print(d[num])"
   ]
  },
  {
   "cell_type": "code",
   "execution_count": 73,
   "id": "069b4fdf",
   "metadata": {
    "ExecuteTime": {
     "end_time": "2022-06-20T14:24:09.237403Z",
     "start_time": "2022-06-20T14:24:06.714280Z"
    }
   },
   "outputs": [
    {
     "name": "stdout",
     "output_type": "stream",
     "text": [
      "2000\n",
      "6\n"
     ]
    }
   ],
   "source": [
    "# 답안 예시\n",
    "x = int(input())\n",
    "\n",
    "d = [0] * 30001\n",
    "\n",
    "for i in range(2, x+1):\n",
    "    d[i] = d[i-1] + 1\n",
    "    if i % 2 == 0:\n",
    "        d[i] = min(d[i], d[i//2] + 1)\n",
    "    if i % 3 == 0:\n",
    "        d[i] = min(d[i], d[i//3] + 1)\n",
    "    if i % 5 == 0:\n",
    "        d[i] = min(d[i], d[i//5]+1)\n",
    "\n",
    "print(d[x])"
   ]
  },
  {
   "cell_type": "markdown",
   "id": "a90d94b2",
   "metadata": {},
   "source": [
    "## 실전문제 2"
   ]
  },
  {
   "cell_type": "code",
   "execution_count": 38,
   "id": "2a0c0d97",
   "metadata": {
    "ExecuteTime": {
     "end_time": "2022-06-20T07:41:15.504077Z",
     "start_time": "2022-06-20T07:41:12.699697Z"
    }
   },
   "outputs": [
    {
     "name": "stdout",
     "output_type": "stream",
     "text": [
      "4\n",
      "1 3 1 5\n",
      "8\n"
     ]
    }
   ],
   "source": [
    "n = int(input())\n",
    "k = list(map(int,input().split()))\n",
    "food = 0\n",
    "for i in range(n):\n",
    "    for j in range(i+1,n):\n",
    "        food = max(food,k[i]+k[j])\n",
    "print(food) # 문제를 2군대만 갈 수 있는 것으로 잘못 이해했었음."
   ]
  },
  {
   "cell_type": "code",
   "execution_count": 97,
   "id": "7e1be8d1",
   "metadata": {
    "ExecuteTime": {
     "end_time": "2022-06-20T15:07:08.645389Z",
     "start_time": "2022-06-20T15:07:03.894226Z"
    }
   },
   "outputs": [
    {
     "name": "stdout",
     "output_type": "stream",
     "text": [
      "4\n",
      "1 3 1 5\n",
      "8\n"
     ]
    }
   ],
   "source": [
    "#재귀 함수로 풀어보기\n",
    "n = int(input())\n",
    "k = list(map(int,input().split()))\n",
    "k.insert(0,0)\n",
    "d = [0]* 101\n",
    "def f(x):\n",
    "    if d[x] !=0:\n",
    "        return\n",
    "    if x == 0:\n",
    "        return\n",
    "    if x == 1 or x == 2:\n",
    "        d[x] = k[x]\n",
    "        return\n",
    "    if d[x-2] == 0:\n",
    "        f(x-2)\n",
    "    if d[x-1] == 0:\n",
    "        f(x-1)\n",
    "    d[x] = max(d[x-1],d[x-2]+k[x])\n",
    "f(n)\n",
    "print(d[n])       "
   ]
  },
  {
   "cell_type": "code",
   "execution_count": 92,
   "id": "04b469c8",
   "metadata": {
    "ExecuteTime": {
     "end_time": "2022-06-20T15:03:27.453469Z",
     "start_time": "2022-06-20T15:03:23.902994Z"
    }
   },
   "outputs": [
    {
     "name": "stdout",
     "output_type": "stream",
     "text": [
      "4\n",
      "1 3 1 5\n",
      "8\n"
     ]
    }
   ],
   "source": [
    "# 정답 예시\n",
    "n = int(input())\n",
    "k = list(map(int,input().split()))\n",
    "d = [0]* 100\n",
    "d[0] = k[0]\n",
    "d[1] = max(k[0],k[1])\n",
    "for i in range(2, n):\n",
    "    d[i] = max(d[i-1],d[i-2]+k[i])\n",
    "    \n",
    "print(d[n-1])"
   ]
  },
  {
   "cell_type": "markdown",
   "id": "5c3755a7",
   "metadata": {},
   "source": [
    "## 실전문제 3"
   ]
  },
  {
   "cell_type": "code",
   "execution_count": 15,
   "id": "dfdd12ff",
   "metadata": {
    "ExecuteTime": {
     "end_time": "2022-06-20T12:47:57.848430Z",
     "start_time": "2022-06-20T12:47:56.560097Z"
    }
   },
   "outputs": [
    {
     "name": "stdout",
     "output_type": "stream",
     "text": [
      "1000\n",
      "184559\n"
     ]
    }
   ],
   "source": [
    "n = int(input())\n",
    "d = [0] * (n+1)\n",
    "for i in range(1,n+1):\n",
    "    if i >= 3:\n",
    "        d[i] = (d[i-1]+(d[i-2]*2))\n",
    "    elif i == 2:\n",
    "        d[i] = 3\n",
    "    elif i == 1:\n",
    "        d[i] = 1\n",
    "print(d[n]%796796)\n"
   ]
  },
  {
   "cell_type": "code",
   "execution_count": 10,
   "id": "fcbaa0b2",
   "metadata": {
    "ExecuteTime": {
     "end_time": "2022-06-20T12:40:20.734380Z",
     "start_time": "2022-06-20T12:40:19.481825Z"
    }
   },
   "outputs": [
    {
     "name": "stdout",
     "output_type": "stream",
     "text": [
      "1000\n",
      "184559\n"
     ]
    }
   ],
   "source": [
    "# 답안예시\n",
    "n = int(input())\n",
    "d = [0] * 1001\n",
    "\n",
    "d[1] = 1\n",
    "d[2] = 3\n",
    "for i in range(3, n+1):\n",
    "    d[i] = (d[i-1]+2*d[i-2]) % 796796\n",
    "    \n",
    "print(d[n])"
   ]
  },
  {
   "cell_type": "markdown",
   "id": "6a635bab",
   "metadata": {
    "ExecuteTime": {
     "end_time": "2022-06-20T12:48:12.114279Z",
     "start_time": "2022-06-20T12:48:12.106033Z"
    }
   },
   "source": [
    "## 실전문제 4"
   ]
  },
  {
   "cell_type": "code",
   "execution_count": 3,
   "id": "d9fd3246",
   "metadata": {
    "ExecuteTime": {
     "end_time": "2022-06-20T16:45:08.955283Z",
     "start_time": "2022-06-20T16:45:03.410698Z"
    },
    "scrolled": true
   },
   "outputs": [
    {
     "name": "stdout",
     "output_type": "stream",
     "text": [
      "5 50\n",
      "2\n",
      "5\n",
      "13\n",
      "17\n",
      "19\n",
      "[0, 10001, 1, 10001, 2, 1, 3, 10001, 4, 10001, 2, 10001, 3, 10001, 4, 3, 5, 10001, 6, 10001, 4, 10001, 5, 10001, 6, 5, 7, 10001, 8, 10001, 6, 7, 7, 9, 8, 7, 9, 13, 10, 10001, 8, 10001, 9, 10001, 10, 9, 11, 10001, 12, 10001, 8]\n"
     ]
    }
   ],
   "source": [
    "# 결론 탑 다운 방식으로는 지금은 불가능\n",
    "n, m = map(int, input().split())\n",
    "k = []\n",
    "for i in range(n):\n",
    "    k.append(int(input()))\n",
    "d = [10001] * (m+1)\n",
    "d[0] = 0\n",
    "\n",
    "k = sorted(k)\n",
    "\n",
    "\n",
    "def money(start,coin):\n",
    "    if (start-coin) > 0:\n",
    "        money(start-coin,coin)\n",
    "            \n",
    "        d[start] = min(d[start],d[start-coin]+1)\n",
    "    elif (start-coin) == 0:\n",
    "        d[start] = min(d[start],d[start-coin]+1)\n",
    "        return\n",
    "    \n",
    "for i in k:\n",
    "    money(m,i)\n",
    "k = sorted(k,reverse=True)        \n",
    "for i in k:\n",
    "    money(m,i)    \n",
    "    \n",
    "\n",
    "\n",
    "if d[m] == 10001:\n",
    "    print(-1)\n",
    "else:\n",
    "    print(d[:m+1])\n"
   ]
  },
  {
   "cell_type": "code",
   "execution_count": 123,
   "id": "4682060a",
   "metadata": {
    "ExecuteTime": {
     "end_time": "2022-06-20T15:35:20.949562Z",
     "start_time": "2022-06-20T15:35:13.735544Z"
    },
    "scrolled": true
   },
   "outputs": [
    {
     "name": "stdout",
     "output_type": "stream",
     "text": [
      "5 50\n",
      "2\n",
      "5\n",
      "13\n",
      "17\n",
      "19\n",
      "[0, 10001, 1, 10001, 2, 1, 3, 2, 4, 3, 2, 4, 3, 1, 4, 2, 5, 1, 2, 1, 3, 2, 2, 3, 2, 4, 2, 3, 3, 3, 2, 3, 2, 4, 2, 3, 2, 3, 2, 3, 3, 3, 4, 3, 4, 3, 4, 3, 4, 3, 4]\n"
     ]
    }
   ],
   "source": [
    "#답안 예시\n",
    "n, m = map(int, input().split())\n",
    "k = []\n",
    "for i in range(n):\n",
    "    k.append(int(input()))\n",
    "d = [10001] * (m+1)\n",
    "d[0] = 0\n",
    "for i in range(n):\n",
    "    for j in range(k[i],m+1):\n",
    "        if d[j-k[i]] != 10001:\n",
    "            d[j] = min(d[j],d[j-k[i]]+1)\n",
    "if d[m] == 10001:\n",
    "    print(-1)\n",
    "else:\n",
    "    print(d[m-50:m+1])"
   ]
  },
  {
   "cell_type": "code",
   "execution_count": null,
   "id": "edf34727",
   "metadata": {},
   "outputs": [],
   "source": []
  }
 ],
 "metadata": {
  "kernelspec": {
   "display_name": "Python 3",
   "language": "python",
   "name": "python3"
  },
  "language_info": {
   "codemirror_mode": {
    "name": "ipython",
    "version": 3
   },
   "file_extension": ".py",
   "mimetype": "text/x-python",
   "name": "python",
   "nbconvert_exporter": "python",
   "pygments_lexer": "ipython3",
   "version": "3.8.8"
  },
  "toc": {
   "base_numbering": 1,
   "nav_menu": {},
   "number_sections": true,
   "sideBar": true,
   "skip_h1_title": false,
   "title_cell": "Table of Contents",
   "title_sidebar": "Contents",
   "toc_cell": false,
   "toc_position": {},
   "toc_section_display": true,
   "toc_window_display": false
  },
  "varInspector": {
   "cols": {
    "lenName": 16,
    "lenType": 16,
    "lenVar": 40
   },
   "kernels_config": {
    "python": {
     "delete_cmd_postfix": "",
     "delete_cmd_prefix": "del ",
     "library": "var_list.py",
     "varRefreshCmd": "print(var_dic_list())"
    },
    "r": {
     "delete_cmd_postfix": ") ",
     "delete_cmd_prefix": "rm(",
     "library": "var_list.r",
     "varRefreshCmd": "cat(var_dic_list()) "
    }
   },
   "types_to_exclude": [
    "module",
    "function",
    "builtin_function_or_method",
    "instance",
    "_Feature"
   ],
   "window_display": false
  }
 },
 "nbformat": 4,
 "nbformat_minor": 5
}
