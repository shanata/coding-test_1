{
 "cells": [
  {
   "cell_type": "markdown",
   "id": "c84ffed6",
   "metadata": {},
   "source": [
    "# DFS"
   ]
  },
  {
   "cell_type": "markdown",
   "id": "ce987b93",
   "metadata": {
    "ExecuteTime": {
     "end_time": "2022-06-15T02:44:37.421549Z",
     "start_time": "2022-06-15T02:44:37.417560Z"
    }
   },
   "source": [
    "## DFS 예제"
   ]
  },
  {
   "cell_type": "code",
   "execution_count": 2,
   "id": "339127c0",
   "metadata": {
    "ExecuteTime": {
     "end_time": "2022-06-15T02:51:52.153844Z",
     "start_time": "2022-06-15T02:51:52.135923Z"
    }
   },
   "outputs": [
    {
     "name": "stdout",
     "output_type": "stream",
     "text": [
      "1 2 7 6 8 3 4 5 "
     ]
    }
   ],
   "source": [
    "#DFS 메서드 정의\n",
    "def dfs(graph, v , visited):\n",
    "    #현재 노드를 방문 처리\n",
    "    visited[v] = True\n",
    "    print(v, end= ' ')\n",
    "    # 현재 노드와 연결된 다른 노드를 재귀적으로 방문\n",
    "    for i in graph[v]:\n",
    "        if not visited[i]:\n",
    "            dfs(graph, i, visited)\n",
    "            \n",
    "# 각 노드가 연결된 정보를 리스트 자료형으로 표현(2차원 리스트)\n",
    "graph = [\n",
    "    [],\n",
    "    [2,3,8],\n",
    "    [1,7],\n",
    "    [1,4,5],\n",
    "    [3,5],\n",
    "    [3,4],\n",
    "    [7],\n",
    "    [2,6,8],\n",
    "    [1,7]\n",
    "]\n",
    "\n",
    "#각 노드가 방문된 정보를 리스트 자료형으로 표현\n",
    "visited = [False] * 9\n",
    "\n",
    "#정의된 DFS 함수 호출\n",
    "dfs(graph, 1 , visited)"
   ]
  },
  {
   "cell_type": "markdown",
   "id": "b1c1926b",
   "metadata": {},
   "source": [
    "# BFS"
   ]
  },
  {
   "cell_type": "markdown",
   "id": "57fb4bbc",
   "metadata": {},
   "source": [
    "## BFS 예제"
   ]
  },
  {
   "cell_type": "code",
   "execution_count": 3,
   "id": "b5626653",
   "metadata": {
    "ExecuteTime": {
     "end_time": "2022-06-15T03:05:52.055194Z",
     "start_time": "2022-06-15T03:05:52.037111Z"
    }
   },
   "outputs": [
    {
     "name": "stdout",
     "output_type": "stream",
     "text": [
      "1 2 3 8 7 4 5 6 "
     ]
    }
   ],
   "source": [
    "from collections import deque\n",
    "\n",
    "#BFS 메서드 정의\n",
    "def bfs(graph, start, visited):\n",
    "    # 큐 구현을 위해 deque 라이브러리 사용\n",
    "    queue = deque([start])\n",
    "    # 현재 노드를 방문 처리\n",
    "    visited[start] = True\n",
    "    # 큐가 빌 때 까지 반복\n",
    "    while queue:\n",
    "        v = queue.popleft()\n",
    "        print(v, end=' ')\n",
    "        #해당 원소와 연결된, 아직 방문하지 않은 원소들을 큐에 삽입\n",
    "        for i in graph[v]:\n",
    "            if not visited[i]:\n",
    "                queue.append(i)\n",
    "                visited[i] = True\n",
    "graph = [\n",
    "    [],\n",
    "    [2,3,8],\n",
    "    [1,7],\n",
    "    [1,4,5],\n",
    "    [3,5],\n",
    "    [3,4],\n",
    "    [7],\n",
    "    [2,6,8],\n",
    "    [1,7]\n",
    "]\n",
    "\n",
    "#각 노드가 방문된 정보를 리스트 자료형으로 표현\n",
    "visited = [False] * 9\n",
    "\n",
    "bfs(graph, 1, visited)"
   ]
  },
  {
   "cell_type": "markdown",
   "id": "94ff8ecd",
   "metadata": {},
   "source": [
    "# 실전문제\n"
   ]
  },
  {
   "cell_type": "markdown",
   "id": "288945cf",
   "metadata": {
    "ExecuteTime": {
     "end_time": "2022-06-15T03:13:39.763544Z",
     "start_time": "2022-06-15T03:13:39.760888Z"
    }
   },
   "source": [
    "## 3번문제"
   ]
  },
  {
   "cell_type": "code",
   "execution_count": null,
   "id": "3aba1d23",
   "metadata": {},
   "outputs": [],
   "source": [
    "n, m = map(int, input().split())\n",
    "graph = []\n",
    "for i in range(n):\n",
    "    graph.append(list(map(int,input())))\n",
    "def dfs(graph, x, y):\n",
    "    graph[x][y] = True\n",
    "    for x\n",
    "    \n",
    "    \n",
    " \n"
   ]
  },
  {
   "cell_type": "code",
   "execution_count": 5,
   "id": "1211ad89",
   "metadata": {
    "ExecuteTime": {
     "end_time": "2022-06-15T03:41:01.204017Z",
     "start_time": "2022-06-15T03:40:47.303882Z"
    }
   },
   "outputs": [
    {
     "name": "stdout",
     "output_type": "stream",
     "text": [
      "4 5\n",
      "00110\n",
      "00011\n",
      "11111\n",
      "00000\n",
      "3\n"
     ]
    }
   ],
   "source": [
    "#예시\n",
    "n, m = map(int, input().split())\n",
    "graph = []\n",
    "for i in range(n):\n",
    "    graph.append(list(map(int, input())))\n",
    "\n",
    "def dfs(x, y):\n",
    "    if x <= -1 or x >= n or y <= -1 or y >= m:\n",
    "        return False\n",
    "    if graph[x][y] == 0:\n",
    "        graph[x][y] = 1\n",
    "        dfs(x-1,y)\n",
    "        dfs(x+1,y)\n",
    "        dfs(x,y-1)\n",
    "        dfs(x, y+ 1)\n",
    "        return True\n",
    "    return False\n",
    "\n",
    "result = 0\n",
    "for i in range(n):\n",
    "    for j in range(m):\n",
    "        if dfs(i, j) == True:\n",
    "            result += 1\n",
    "print(result)"
   ]
  },
  {
   "cell_type": "markdown",
   "id": "357149bf",
   "metadata": {
    "ExecuteTime": {
     "end_time": "2022-06-15T03:47:07.826368Z",
     "start_time": "2022-06-15T03:47:07.809208Z"
    }
   },
   "source": [
    "## 미로탈출"
   ]
  },
  {
   "cell_type": "code",
   "execution_count": 20,
   "id": "c8e9d7e5",
   "metadata": {
    "ExecuteTime": {
     "end_time": "2022-06-15T04:00:08.327405Z",
     "start_time": "2022-06-15T04:00:08.311367Z"
    }
   },
   "outputs": [],
   "source": [
    "from collections import deque\n",
    "queue = deque([1,1])"
   ]
  },
  {
   "cell_type": "code",
   "execution_count": 38,
   "id": "b010a6ca",
   "metadata": {
    "ExecuteTime": {
     "end_time": "2022-06-15T04:57:10.684195Z",
     "start_time": "2022-06-15T04:53:33.883305Z"
    }
   },
   "outputs": [
    {
     "name": "stdout",
     "output_type": "stream",
     "text": [
      "5 6\n",
      "101010\n",
      "111111\n",
      "000001\n",
      "111111\n",
      "111111\n"
     ]
    },
    {
     "ename": "KeyboardInterrupt",
     "evalue": "",
     "output_type": "error",
     "traceback": [
      "\u001b[1;31m---------------------------------------------------------------------------\u001b[0m",
      "\u001b[1;31mKeyboardInterrupt\u001b[0m                         Traceback (most recent call last)",
      "\u001b[1;32m<ipython-input-38-2427496e884b>\u001b[0m in \u001b[0;36m<module>\u001b[1;34m\u001b[0m\n\u001b[0;32m     23\u001b[0m                 \u001b[1;32mbreak\u001b[0m\u001b[1;33m\u001b[0m\u001b[1;33m\u001b[0m\u001b[0m\n\u001b[0;32m     24\u001b[0m     \u001b[0mprint\u001b[0m\u001b[1;33m(\u001b[0m\u001b[0mgraph\u001b[0m\u001b[1;33m[\u001b[0m\u001b[0mn\u001b[0m\u001b[1;33m-\u001b[0m\u001b[1;36m1\u001b[0m\u001b[1;33m]\u001b[0m\u001b[1;33m[\u001b[0m\u001b[0mm\u001b[0m\u001b[1;33m-\u001b[0m\u001b[1;36m1\u001b[0m\u001b[1;33m]\u001b[0m\u001b[1;33m)\u001b[0m\u001b[1;33m\u001b[0m\u001b[1;33m\u001b[0m\u001b[0m\n\u001b[1;32m---> 25\u001b[1;33m \u001b[0mbfs\u001b[0m\u001b[1;33m(\u001b[0m\u001b[0mgraph\u001b[0m\u001b[1;33m)\u001b[0m\u001b[1;33m\u001b[0m\u001b[1;33m\u001b[0m\u001b[0m\n\u001b[0m",
      "\u001b[1;32m<ipython-input-38-2427496e884b>\u001b[0m in \u001b[0;36mbfs\u001b[1;34m(graph)\u001b[0m\n\u001b[0;32m     12\u001b[0m         \u001b[0mv\u001b[0m\u001b[1;33m,\u001b[0m\u001b[0mw\u001b[0m \u001b[1;33m=\u001b[0m \u001b[0mqueue\u001b[0m\u001b[1;33m.\u001b[0m\u001b[0mpopleft\u001b[0m\u001b[1;33m(\u001b[0m\u001b[1;33m)\u001b[0m\u001b[1;33m\u001b[0m\u001b[1;33m\u001b[0m\u001b[0m\n\u001b[0;32m     13\u001b[0m \u001b[1;31m#         w = queue.popleft()\u001b[0m\u001b[1;33m\u001b[0m\u001b[1;33m\u001b[0m\u001b[1;33m\u001b[0m\u001b[0m\n\u001b[1;32m---> 14\u001b[1;33m         \u001b[0mways\u001b[0m \u001b[1;33m=\u001b[0m \u001b[1;33m[\u001b[0m\u001b[1;33m[\u001b[0m\u001b[0mv\u001b[0m\u001b[1;33m-\u001b[0m\u001b[1;36m1\u001b[0m\u001b[1;33m,\u001b[0m\u001b[0mw\u001b[0m\u001b[1;33m]\u001b[0m\u001b[1;33m,\u001b[0m\u001b[1;33m[\u001b[0m\u001b[0mv\u001b[0m\u001b[1;33m+\u001b[0m\u001b[1;36m1\u001b[0m\u001b[1;33m,\u001b[0m\u001b[0mw\u001b[0m\u001b[1;33m]\u001b[0m\u001b[1;33m,\u001b[0m\u001b[1;33m[\u001b[0m\u001b[0mv\u001b[0m\u001b[1;33m,\u001b[0m\u001b[0mw\u001b[0m\u001b[1;33m-\u001b[0m\u001b[1;36m1\u001b[0m\u001b[1;33m]\u001b[0m\u001b[1;33m,\u001b[0m\u001b[1;33m[\u001b[0m\u001b[0mv\u001b[0m\u001b[1;33m,\u001b[0m\u001b[0mw\u001b[0m\u001b[1;33m+\u001b[0m\u001b[1;36m1\u001b[0m\u001b[1;33m]\u001b[0m\u001b[1;33m]\u001b[0m\u001b[1;33m\u001b[0m\u001b[1;33m\u001b[0m\u001b[0m\n\u001b[0m\u001b[0;32m     15\u001b[0m         \u001b[1;32mfor\u001b[0m \u001b[0mway\u001b[0m \u001b[1;32min\u001b[0m \u001b[0mways\u001b[0m\u001b[1;33m:\u001b[0m\u001b[1;33m\u001b[0m\u001b[1;33m\u001b[0m\u001b[0m\n\u001b[0;32m     16\u001b[0m             \u001b[1;32mif\u001b[0m \u001b[0mway\u001b[0m\u001b[1;33m[\u001b[0m\u001b[1;36m0\u001b[0m\u001b[1;33m]\u001b[0m \u001b[1;33m<=\u001b[0m \u001b[1;33m-\u001b[0m\u001b[1;36m1\u001b[0m \u001b[1;32mor\u001b[0m \u001b[0mway\u001b[0m\u001b[1;33m[\u001b[0m\u001b[1;36m0\u001b[0m\u001b[1;33m]\u001b[0m \u001b[1;33m>=\u001b[0m \u001b[0mn\u001b[0m \u001b[1;32mor\u001b[0m \u001b[0mway\u001b[0m\u001b[1;33m[\u001b[0m\u001b[1;36m1\u001b[0m\u001b[1;33m]\u001b[0m \u001b[1;33m<=\u001b[0m \u001b[1;33m-\u001b[0m\u001b[1;36m1\u001b[0m \u001b[1;32mor\u001b[0m \u001b[0mway\u001b[0m\u001b[1;33m[\u001b[0m\u001b[1;36m1\u001b[0m\u001b[1;33m]\u001b[0m \u001b[1;33m>=\u001b[0m \u001b[0mm\u001b[0m\u001b[1;33m:\u001b[0m\u001b[1;33m\u001b[0m\u001b[1;33m\u001b[0m\u001b[0m\n",
      "\u001b[1;31mKeyboardInterrupt\u001b[0m: "
     ]
    }
   ],
   "source": [
    "from collections import deque\n",
    "n, m = map(int, input().split())\n",
    "graph = []\n",
    "for i in range(n):\n",
    "    graph.append(list(map(int, input())))\n",
    "\n",
    "def bfs(graph):\n",
    "    queue = deque()\n",
    "    queue.append([0,0])\n",
    "    while queue:\n",
    "        \n",
    "        v,w = queue.popleft()\n",
    "#         w = queue.popleft()\n",
    "        ways = [[v-1,w],[v+1,w],[v,w-1],[v,w+1]]\n",
    "        for way in ways:\n",
    "            if way[0] <= -1 or way[0] >= n or way[1] <= -1 or way[1] >= m:  # if, elif, else 전부 if문으로\n",
    "                pass # pass 대신 continue\n",
    "            elif graph[way[0]][way[1]] == 0:\n",
    "                pass # pass 대신 continue\n",
    "            else :\n",
    "                graph[way[0]][way[1]] += 1  # 이전 거리를 더해줘야 하니까 graph[v][w]를 더해줘야 한다.\n",
    "                queue.append(way)\n",
    "                break\n",
    "            \n",
    "    print(graph[n-1][m-1])    \n",
    "bfs(graph)            \n"
   ]
  },
  {
   "cell_type": "code",
   "execution_count": 42,
   "id": "da357fb0",
   "metadata": {
    "ExecuteTime": {
     "end_time": "2022-06-15T05:06:31.610116Z",
     "start_time": "2022-06-15T05:06:12.873048Z"
    }
   },
   "outputs": [
    {
     "name": "stdout",
     "output_type": "stream",
     "text": [
      "5 6\n",
      "101010\n",
      "111111\n",
      "000001\n",
      "111111\n",
      "111111\n",
      "10\n"
     ]
    }
   ],
   "source": [
    "# 위의 답 주석 부분만 수정한 버전\n",
    "from collections import deque\n",
    "n, m = map(int, input().split())\n",
    "graph = []\n",
    "for i in range(n):\n",
    "    graph.append(list(map(int, input())))\n",
    "\n",
    "def bfs(graph):\n",
    "    queue = deque()\n",
    "    queue.append([0,0])\n",
    "    while queue:\n",
    "        \n",
    "        v,w = queue.popleft()\n",
    "\n",
    "        ways = [[v-1,w],[v+1,w],[v,w-1],[v,w+1]]\n",
    "        for way in ways:\n",
    "            if way[0] <= -1 or way[0] >= n or way[1] <= -1 or way[1] >= m:\n",
    "                continue\n",
    "            if graph[way[0]][way[1]] == 0:\n",
    "                continue\n",
    "            if graph[way[0]][way[1]] == 1:\n",
    "                graph[way[0]][way[1]] = graph[v][w]+1  # 이전 거리를 더해줘야 하니까 graph[v][w]를 더해줘야 한다.\n",
    "                queue.append(way)\n",
    "                \n",
    "            \n",
    "    print(graph[n-1][m-1])    \n",
    "bfs(graph)            \n"
   ]
  },
  {
   "cell_type": "code",
   "execution_count": 40,
   "id": "306e1188",
   "metadata": {
    "ExecuteTime": {
     "end_time": "2022-06-15T05:00:06.288018Z",
     "start_time": "2022-06-15T04:59:47.737761Z"
    }
   },
   "outputs": [
    {
     "name": "stdout",
     "output_type": "stream",
     "text": [
      "5 6\n",
      "101010\n",
      "111111\n",
      "000001\n",
      "111111\n",
      "111111\n",
      "10\n"
     ]
    }
   ],
   "source": [
    "from collections import deque\n",
    "n, m = map(int, input().split())\n",
    "graph = []\n",
    "for i in range(n):\n",
    "    graph.append(list(map(int, input())))\n",
    "\n",
    "dx = [-1, 1, 0, 0]\n",
    "dy = [0, 0, -1, 1]\n",
    "\n",
    "def bfs(x,y):\n",
    "    queue = deque()\n",
    "    queue.append((x,y))\n",
    "    while queue:\n",
    "        x, y = queue.popleft()\n",
    "        for i in range(4):\n",
    "            nx = x + dx[i]\n",
    "            ny = y + dy[i]\n",
    "            \n",
    "            if nx < 0 or ny < 0 or nx >= n or ny >= m:\n",
    "                continue\n",
    "            if graph[nx][ny] == 0:\n",
    "                continue\n",
    "            if graph[nx][ny] == 1:\n",
    "                graph[nx][ny] = graph[x][y] + 1\n",
    "                queue.append((nx,ny))\n",
    "    return graph[n-1][m-1]\n",
    "\n",
    "print(bfs(0,0))\n",
    "                \n",
    "            "
   ]
  },
  {
   "cell_type": "code",
   "execution_count": null,
   "id": "67161807",
   "metadata": {},
   "outputs": [],
   "source": []
  }
 ],
 "metadata": {
  "kernelspec": {
   "display_name": "Python 3",
   "language": "python",
   "name": "python3"
  },
  "language_info": {
   "codemirror_mode": {
    "name": "ipython",
    "version": 3
   },
   "file_extension": ".py",
   "mimetype": "text/x-python",
   "name": "python",
   "nbconvert_exporter": "python",
   "pygments_lexer": "ipython3",
   "version": "3.8.8"
  },
  "toc": {
   "base_numbering": 1,
   "nav_menu": {},
   "number_sections": true,
   "sideBar": true,
   "skip_h1_title": false,
   "title_cell": "Table of Contents",
   "title_sidebar": "Contents",
   "toc_cell": false,
   "toc_position": {},
   "toc_section_display": true,
   "toc_window_display": false
  },
  "varInspector": {
   "cols": {
    "lenName": 16,
    "lenType": 16,
    "lenVar": 40
   },
   "kernels_config": {
    "python": {
     "delete_cmd_postfix": "",
     "delete_cmd_prefix": "del ",
     "library": "var_list.py",
     "varRefreshCmd": "print(var_dic_list())"
    },
    "r": {
     "delete_cmd_postfix": ") ",
     "delete_cmd_prefix": "rm(",
     "library": "var_list.r",
     "varRefreshCmd": "cat(var_dic_list()) "
    }
   },
   "types_to_exclude": [
    "module",
    "function",
    "builtin_function_or_method",
    "instance",
    "_Feature"
   ],
   "window_display": false
  }
 },
 "nbformat": 4,
 "nbformat_minor": 5
}
