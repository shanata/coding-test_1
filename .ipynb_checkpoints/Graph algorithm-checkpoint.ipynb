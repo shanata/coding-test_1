{
 "cells": [
  {
   "cell_type": "markdown",
   "id": "f8982ea4",
   "metadata": {},
   "source": [
    "# 그래프 알고리즘"
   ]
  },
  {
   "cell_type": "markdown",
   "id": "ff866b37",
   "metadata": {},
   "source": [
    "## 서로소 집합"
   ]
  },
  {
   "cell_type": "code",
   "execution_count": 4,
   "id": "96ece44d",
   "metadata": {
    "ExecuteTime": {
     "end_time": "2022-06-22T12:23:55.284758Z",
     "start_time": "2022-06-22T12:23:47.172582Z"
    }
   },
   "outputs": [
    {
     "name": "stdout",
     "output_type": "stream",
     "text": [
      "6 4\n",
      "1 4\n",
      "2 3\n",
      "2 4\n",
      "5 6\n",
      "각 원소가 속한 집합: 1 1 1 1 5 5 \n",
      "부모 테이블: 1 1 2 1 5 5 "
     ]
    }
   ],
   "source": [
    "#기본적인 서로소 집합 알고리즘 소스코드\n",
    "#특정 원소가 속한 집합을 찾기\n",
    "def find_parent(parent,x):\n",
    "    if parent[x] != x:\n",
    "        return find_parent(parent, parent[x])\n",
    "    return x\n",
    "\n",
    "def union_parent(parent,a,b):\n",
    "    a = find_parent(parent,a)\n",
    "    b = find_parent(parent,b)\n",
    "    if a < b:\n",
    "        parent[b] = a\n",
    "    else:\n",
    "        parent[a] = b\n",
    "#노드의 개수와 간선의 개수 입력받기\n",
    "v, e = map(int, input().split())\n",
    "parent = [0] * (v+1)\n",
    "for i in range(1, v+1):\n",
    "    parent[i] = i\n",
    "#유니온 연산을 각각 실행\n",
    "for i in range(e):\n",
    "    a, b = map(int,input().split())\n",
    "    union_parent(parent,a,b)\n",
    "# 각 원소가 속한 집합 출력\n",
    "print('각 원소가 속한 집합: ', end= '')\n",
    "for i in range(1, v+1):\n",
    "    print(find_parent(parent, i), end=' ')\n",
    "print()\n",
    "#부모 테이블 내용 출력\n",
    "print('부모 테이블: ', end = '')\n",
    "for i in range(1, v+1):\n",
    "    print(parent[i], end=' ')"
   ]
  },
  {
   "cell_type": "code",
   "execution_count": 5,
   "id": "b958fb76",
   "metadata": {
    "ExecuteTime": {
     "end_time": "2022-06-22T12:25:49.406090Z",
     "start_time": "2022-06-22T12:25:49.396267Z"
    }
   },
   "outputs": [],
   "source": [
    "# 경로 압축 기법 소스코드\n",
    "#위의 경우는 최악의 경우 시간 복잡도가 O(V)\n",
    "\n",
    "def find_parent(parent, x):\n",
    "    if parent[x] != x:\n",
    "        parent[x] = find_parent(parent, parent[x])\n",
    "    return parent[x]"
   ]
  },
  {
   "cell_type": "code",
   "execution_count": 6,
   "id": "1c8262ff",
   "metadata": {
    "ExecuteTime": {
     "end_time": "2022-06-22T12:27:17.339256Z",
     "start_time": "2022-06-22T12:27:10.517154Z"
    }
   },
   "outputs": [
    {
     "name": "stdout",
     "output_type": "stream",
     "text": [
      "6 4\n",
      "1 4\n",
      "2 3\n",
      "2 4\n",
      "5 6\n",
      "각 원소가 속한 집합: 1 1 1 1 5 5 \n",
      "부모 테이블: 1 1 1 1 5 5 "
     ]
    }
   ],
   "source": [
    "#기본적인 서로소 집합 알고리즘 소스코드\n",
    "#특정 원소가 속한 집합을 찾기\n",
    "def find_parent(parent, x):\n",
    "    if parent[x] != x:\n",
    "        parent[x] = find_parent(parent, parent[x])\n",
    "    return parent[x]\n",
    "\n",
    "def union_parent(parent,a,b):\n",
    "    a = find_parent(parent,a)\n",
    "    b = find_parent(parent,b)\n",
    "    if a < b:\n",
    "        parent[b] = a\n",
    "    else:\n",
    "        parent[a] = b\n",
    "#노드의 개수와 간선의 개수 입력받기\n",
    "v, e = map(int, input().split())\n",
    "parent = [0] * (v+1)\n",
    "\n",
    "#부모 테이블상에서, 부모를 자기 자신으로 초기화\n",
    "for i in range(1, v+1):\n",
    "    parent[i] = i\n",
    "#유니온 연산을 각각 실행\n",
    "for i in range(e):\n",
    "    a, b = map(int,input().split())\n",
    "    union_parent(parent,a,b)\n",
    "# 각 원소가 속한 집합 출력\n",
    "print('각 원소가 속한 집합: ', end= '')\n",
    "for i in range(1, v+1):\n",
    "    print(find_parent(parent, i), end=' ')\n",
    "print()\n",
    "#부모 테이블 내용 출력\n",
    "print('부모 테이블: ', end = '')\n",
    "for i in range(1, v+1):\n",
    "    print(parent[i], end=' ')\n",
    "    \n",
    "#부모 테이블도 정확하게 나옴\n",
    "#시간 복잡도 O(V+M(1+log(2-M/V)V))"
   ]
  },
  {
   "cell_type": "code",
   "execution_count": 8,
   "id": "b4bb99da",
   "metadata": {
    "ExecuteTime": {
     "end_time": "2022-06-22T12:38:16.530957Z",
     "start_time": "2022-06-22T12:38:11.021683Z"
    }
   },
   "outputs": [
    {
     "name": "stdout",
     "output_type": "stream",
     "text": [
      "3 3\n",
      "1 2\n",
      "1 3\n",
      "2 3\n",
      "사이클이 발생했습니다.\n"
     ]
    }
   ],
   "source": [
    "# 서로소 집합을 활용한 사이클 판별 소스코드\n",
    "def find_parent(parent, x):\n",
    "    if parent[x] != x:\n",
    "        parent[x] = find_parent(parent, parent[x])\n",
    "    return parent[x]\n",
    "\n",
    "def union_parent(parent, a, b):\n",
    "    a = find_parent(parent, a)\n",
    "    b = find_parent(parent, b)\n",
    "    if a < b:\n",
    "        parent[b] = a\n",
    "    else:\n",
    "        parent[a] = b\n",
    "\n",
    "v, e = map(int, input().split())\n",
    "parent = [0] * (v+1)\n",
    "\n",
    "for i in range(1, v+1):\n",
    "    parent[i] = i\n",
    "    \n",
    "cycle = False\n",
    "for i in range(e):\n",
    "    a, b = map(int, input().split())\n",
    "    \n",
    "    if find_parent(parent, a) == find_parent(parent, b):\n",
    "        cycle = True\n",
    "        break\n",
    "    else:\n",
    "        union_parent(parent, a, b)\n",
    "        \n",
    "if cycle:\n",
    "    print(\"사이클이 발생했습니다.\")\n",
    "else:\n",
    "    print(\"사이클이 발생하지 않았습니다.\")"
   ]
  },
  {
   "cell_type": "markdown",
   "id": "057c3c6b",
   "metadata": {},
   "source": [
    "## 신장 트리"
   ]
  },
  {
   "cell_type": "code",
   "execution_count": 20,
   "id": "08756192",
   "metadata": {
    "ExecuteTime": {
     "end_time": "2022-06-22T13:56:04.550510Z",
     "start_time": "2022-06-22T13:55:44.807500Z"
    }
   },
   "outputs": [
    {
     "name": "stdout",
     "output_type": "stream",
     "text": [
      "7 9\n",
      "1 2 29\n",
      "1 5 75\n",
      "2 3 35\n",
      "2 6 34\n",
      "3 4 7\n",
      "4 6 23\n",
      "4 7 13\n",
      "5 6 53\n",
      "6 7 25\n",
      "159\n"
     ]
    }
   ],
   "source": [
    " # 크루스칼 알고리즘 소스코드 = 최소 신장 트리를 찾는 알고리즘\n",
    "def find_parent(parent, x):\n",
    "    if parent[x] != x:\n",
    "        parent[x] = find_parent(parent, parent[x])\n",
    "    return parent[x]\n",
    "\n",
    "def union_parent(parent, a, b):\n",
    "    a = find_parent(parent, a)    \n",
    "    b = find_parent(parent, b)\n",
    "    if a < b:\n",
    "        parent[b] = a\n",
    "    else:\n",
    "        parent[a] = b\n",
    "    \n",
    "    \n",
    "v, e = map(int, input().split())\n",
    "parent = [0] * (v+1)\n",
    "\n",
    "edges = [] #간선 리스트\n",
    "result = 0 #최종 비용\n",
    "\n",
    "for i in range(1, v+1):\n",
    "    parent[i] = i\n",
    "    \n",
    "for _ in range(e):\n",
    "    a, b, cost = map(int, input().split())\n",
    "    edges.append((cost, a, b))\n",
    "    \n",
    "edges.sort()\n",
    "\n",
    "for edge in edges:\n",
    "    cost, a, b = edge\n",
    "    # 사이클 체크\n",
    "    if find_parent(parent,a) != find_parent(parent, b):\n",
    "        union_parent(parent, a, b)\n",
    "        \n",
    "        result += cost\n",
    "        \n",
    "print(result)\n",
    "#크루스칼 알고리즘의 시간 복잡도 O(ElogE)"
   ]
  },
  {
   "cell_type": "markdown",
   "id": "caa8fd59",
   "metadata": {},
   "source": [
    "## 위상정렬"
   ]
  },
  {
   "cell_type": "code",
   "execution_count": 23,
   "id": "819152e4",
   "metadata": {
    "ExecuteTime": {
     "end_time": "2022-06-22T14:08:29.409801Z",
     "start_time": "2022-06-22T14:08:18.264851Z"
    }
   },
   "outputs": [
    {
     "name": "stdout",
     "output_type": "stream",
     "text": [
      "7 8\n",
      "1 2\n",
      "1 5\n",
      "2 3\n",
      "2 6\n",
      "3 4\n",
      "4 7\n",
      "5 6\n",
      "6 4\n",
      "1 2 5 3 6 4 7 "
     ]
    }
   ],
   "source": [
    "#위상 정렬 소스코드\n",
    "from collections import deque\n",
    "v, e = map(int, input().split())\n",
    "indegree = [0] * (v+1)\n",
    "graph = [[] for i in range(v+1)]\n",
    "\n",
    "for _ in range(e):\n",
    "    a, b = map(int, input().split())\n",
    "    graph[a].append(b)\n",
    "    indegree[b] += 1\n",
    "    \n",
    "def topology_sort():\n",
    "    result = []\n",
    "    q = deque()\n",
    "    \n",
    "    for i in range(1, v+1):\n",
    "        if indegree[i] == 0:\n",
    "            q.append(i)\n",
    "    while q:\n",
    "        now = q.popleft()\n",
    "        result.append(now)\n",
    "        for i in graph[now]:\n",
    "            indegree[i] -= 1\n",
    "            if indegree[i] == 0:\n",
    "                q.append(i)\n",
    "                \n",
    "    for i in result:\n",
    "        print(i, end=' ')\n",
    "        \n",
    "topology_sort()\n",
    "#위상 정렬의 시간 복잡도는 O(V+E)"
   ]
  },
  {
   "cell_type": "markdown",
   "id": "f7b08d3e",
   "metadata": {},
   "source": [
    "## 실전 문제 1"
   ]
  },
  {
   "cell_type": "code",
   "execution_count": 30,
   "id": "8a95610c",
   "metadata": {
    "ExecuteTime": {
     "end_time": "2022-06-22T14:36:33.935550Z",
     "start_time": "2022-06-22T14:36:14.033160Z"
    }
   },
   "outputs": [
    {
     "name": "stdout",
     "output_type": "stream",
     "text": [
      "7 8\n",
      "0 1 3\n",
      "1 1 7\n",
      "No\n",
      "0 7 6\n",
      "1 7 1\n",
      "No\n",
      "0 3 7\n",
      "0 4 2\n",
      "0 1 1\n",
      "1 1 1\n",
      "Yes\n"
     ]
    }
   ],
   "source": [
    "def find_parent(parent, x):\n",
    "    if parent[x] != x:\n",
    "        parent[x] = find_parent(parent, parent[x])\n",
    "    return parent[x]\n",
    "\n",
    "\n",
    "def union_parent(parent, a, b):\n",
    "    a = find_parent(parent, a)\n",
    "    b = find_parent(parent, b)\n",
    "    if a < b:\n",
    "        parent[b] = a\n",
    "    else:\n",
    "        parent[a] = b\n",
    "\n",
    "\n",
    "def check_parent(parent, a, b):\n",
    "    if parent[a] == parent[b]:\n",
    "        print('YES')\n",
    "    else:\n",
    "        print('NO')\n",
    "\n",
    "\n",
    "n, m = map(int, input().split())\n",
    "parent = [0] * (n+1)\n",
    "for i in range(1, n+1):\n",
    "    parent[i] = i\n",
    "for i in range(m):\n",
    "    index, a, b = map(int, input().split())\n",
    "    if index:\n",
    "        check_parent(parent, a, b)\n",
    "\n",
    "    else:\n",
    "        union_parent(parent, a, b)"
   ]
  },
  {
   "cell_type": "code",
   "execution_count": 31,
   "id": "57f3a918",
   "metadata": {
    "ExecuteTime": {
     "end_time": "2022-06-22T14:40:14.832946Z",
     "start_time": "2022-06-22T14:39:59.468094Z"
    }
   },
   "outputs": [
    {
     "name": "stdout",
     "output_type": "stream",
     "text": [
      "7 8\n",
      "0 1 3\n",
      "1 1 7\n",
      "NO\n",
      "0 7 6\n",
      "1 7 1\n",
      "NO\n",
      "0 3 7\n",
      "0 4 2\n",
      "0 1 1\n",
      "1 1 1\n",
      "YES\n"
     ]
    }
   ],
   "source": [
    "#답안 예시\n",
    "def find_parent(parent,x):\n",
    "    if parent[x] != x:\n",
    "        parent[x] = find_parent(parent,parent[x])\n",
    "    return parent[x]\n",
    "\n",
    "def union_parent(parent,a,b):\n",
    "    a = find_parent(parent, a)\n",
    "    b = find_parent(parent, b)\n",
    "    if a < b:\n",
    "        parent[b] = a\n",
    "    else:\n",
    "        parent[a] = b\n",
    "        \n",
    "n, m = map(int, input().split())\n",
    "parent = [0] * (n+1)\n",
    "\n",
    "for i in range(0, n+1):\n",
    "    parent[i] = i\n",
    "    \n",
    "for i in range(m):\n",
    "    oper, a, b = map(int, input().split())\n",
    "    if oper == 0:\n",
    "        union_parent(parent, a, b)\n",
    "    elif oper == 1:\n",
    "        if find_parent(parent,a) == find_parent(parent, b):\n",
    "            print('YES')\n",
    "        else:\n",
    "            print('NO')"
   ]
  },
  {
   "cell_type": "markdown",
   "id": "cb561331",
   "metadata": {},
   "source": [
    "## 실전문제 2"
   ]
  },
  {
   "cell_type": "code",
   "execution_count": 34,
   "id": "d74d39e9",
   "metadata": {
    "ExecuteTime": {
     "end_time": "2022-06-22T14:55:54.784788Z",
     "start_time": "2022-06-22T14:55:26.163224Z"
    }
   },
   "outputs": [
    {
     "name": "stdout",
     "output_type": "stream",
     "text": [
      "7 12\n",
      "1 2 3\n",
      "1 3 2\n",
      "3 2 1\n",
      "2 5 2\n",
      "3 4 4\n",
      "7 3 6\n",
      "5 1 5\n",
      "1 6 2\n",
      "6 4 1\n",
      "6 5 3\n",
      "4 5 3\n",
      "6 7 4\n",
      "8\n"
     ]
    }
   ],
   "source": [
    "def find_parent(parent,x):\n",
    "    if parent[x] != x:\n",
    "        parent[x] = find_parent(parent,parent[x])\n",
    "    return parent[x]\n",
    "\n",
    "def union_parent(parent,a,b):\n",
    "    a = find_parent(parent, a)\n",
    "    b = find_parent(parent, b)\n",
    "    if a < b:\n",
    "        parent[b] = a\n",
    "    else:\n",
    "        parent[a] = b\n",
    "\n",
    "n,m = map(int, input().split())\n",
    "parent = [0] * (n+1)\n",
    "edges = []\n",
    "result = 0\n",
    "final_cost = 0\n",
    "for i in range(1, n+1):\n",
    "    parent[i] = i\n",
    "    \n",
    "for i in range(m):\n",
    "    a, b, c = map(int, input().split())\n",
    "    edges.append((c,a,b))\n",
    "    \n",
    "edges.sort()\n",
    "\n",
    "for edge in edges:    \n",
    "    cost, a, b = edge\n",
    "    if find_parent(parent, a) != find_parent(parent,b):\n",
    "        union_parent(parent, a, b)\n",
    "        result += cost\n",
    "        final_cost = cost\n",
    "result -= final_cost\n",
    "print(result)"
   ]
  },
  {
   "cell_type": "code",
   "execution_count": 36,
   "id": "754d08ac",
   "metadata": {
    "ExecuteTime": {
     "end_time": "2022-06-22T15:02:39.833227Z",
     "start_time": "2022-06-22T15:01:56.019639Z"
    }
   },
   "outputs": [
    {
     "name": "stdout",
     "output_type": "stream",
     "text": [
      "7 12\n",
      "1 2 3\n",
      "1 3 2\n",
      "3 2 1\n",
      "2 5 2\n",
      "3 4 4\n",
      "7 3 6\n",
      "5 1 5\n",
      "1 6 2\n",
      "6 4 1\n",
      "6 5 3\n",
      "4 5 3\n",
      "6 7 4\n",
      "8\n"
     ]
    }
   ],
   "source": [
    "#답안예시\n",
    "def find_parent(parent,x):\n",
    "    if parent[x] != x:\n",
    "        parent[x] = find_parent(parent,parent[x])\n",
    "    return parent[x]\n",
    "\n",
    "def union_parent(parent,a,b):\n",
    "    a = find_parent(parent, a)\n",
    "    b = find_parent(parent, b)\n",
    "    if a < b:\n",
    "        parent[b] = a\n",
    "    else:\n",
    "        parent[a] = b\n",
    "        \n",
    "v, e = map(int, input().split())\n",
    "parent = [0] * (v + 1)\n",
    "\n",
    "edges = []\n",
    "result = 0\n",
    "\n",
    "for i in range(1, v+1):\n",
    "    parent[i] = i\n",
    "    \n",
    "for _ in range(e):\n",
    "    a, b, cost = map(int, input().split())\n",
    "    edges.append((cost, a, b))\n",
    "    \n",
    "edges.sort()\n",
    "last = 0\n",
    "\n",
    "for edge in edges:\n",
    "    cost, a, b = edge\n",
    "    if find_parent(parent, a) != find_parent(parent, b):\n",
    "        union_parent(parent, a, b)\n",
    "        result += cost\n",
    "        last = cost\n",
    "        \n",
    "print(result - last)"
   ]
  },
  {
   "cell_type": "code",
   "execution_count": 38,
   "id": "e0b028b4",
   "metadata": {
    "ExecuteTime": {
     "end_time": "2022-06-22T15:07:41.037209Z",
     "start_time": "2022-06-22T15:07:41.026207Z"
    }
   },
   "outputs": [
    {
     "name": "stdout",
     "output_type": "stream",
     "text": [
      "[(3, 1, 2), (2, 1, 3), (3, 2, 1)]\n",
      "<built-in method sort of list object at 0x00000261B45B6580>\n",
      "[(2, 1, 3), (3, 1, 2), (3, 2, 1)]\n"
     ]
    }
   ],
   "source": [
    "edges = [(3,1,2),(2,1,3),(3,2,1)]\n",
    "edges.sort\n",
    "print(edges)\n",
    "print(edges.sort)\n",
    "edges.sort()\n",
    "print(edges)"
   ]
  },
  {
   "cell_type": "code",
   "execution_count": 39,
   "id": "e82aa508",
   "metadata": {
    "ExecuteTime": {
     "end_time": "2022-06-22T15:09:32.136900Z",
     "start_time": "2022-06-22T15:09:32.131901Z"
    }
   },
   "outputs": [
    {
     "name": "stdout",
     "output_type": "stream",
     "text": [
      "<built-in method sort of list object at 0x00000261B4652440>\n"
     ]
    }
   ],
   "source": [
    "edges = [(3,1,2),(2,1,3),(3,2,1)]\n",
    "edges = edges.sort\n",
    "print(edges)"
   ]
  },
  {
   "cell_type": "markdown",
   "id": "ab1578ed",
   "metadata": {},
   "source": [
    "## 실전문제 3"
   ]
  },
  {
   "cell_type": "code",
   "execution_count": 61,
   "id": "bd4de135",
   "metadata": {
    "ExecuteTime": {
     "end_time": "2022-06-22T16:10:43.751151Z",
     "start_time": "2022-06-22T16:10:31.244958Z"
    }
   },
   "outputs": [
    {
     "name": "stdout",
     "output_type": "stream",
     "text": [
      "5\n",
      "10 -1\n",
      "10 1 -1\n",
      "4 1 -1\n",
      "4 3 1 -1\n",
      "3 3 -1\n",
      "[[], [2, 3, 4], [], [4, 5], [], []]\n",
      "[0, 10, 10, 4, 4, 3]\n",
      "[0, 10, 20, 14, 18, 7]\n",
      "10\n",
      "20\n",
      "14\n",
      "18\n",
      "7\n"
     ]
    }
   ],
   "source": [
    "from collections import deque\n",
    "import copy\n",
    "n = int(input())\n",
    "indegree = [0] * (n+1)\n",
    "times = [0] * (n+1)\n",
    "graph = [[] for i in range(n+1)]\n",
    "for i in range(n):\n",
    "    lst = list(map(int, input().split()))\n",
    "    times[i+1] = lst[0]\n",
    "    for j in lst[1:]:\n",
    "        if j != -1:\n",
    "            graph[j].append(i+1)\n",
    "            indegree[i+1] += 1\n",
    "print(graph)\n",
    "print(times)\n",
    "result = times.copy() #문제 없는지 확인\n",
    "q = deque()\n",
    "def topology_sort():\n",
    "    for i in range(1, n+1):\n",
    "        if indegree[i] == 0:\n",
    "            q.append(i)\n",
    "            result[i] = times[i]\n",
    "    while q:\n",
    "        now = q.popleft()\n",
    "        for i in graph[now]:\n",
    "\n",
    "            \n",
    "            result[i] += times[now]  # 국소적 해석을 해서 푼 부분\n",
    "            indegree[i] -= 1\n",
    "            if indegree[i] == 0:\n",
    "                q.append(i)\n",
    "topology_sort()\n",
    "print(result)\n",
    "for i in result:\n",
    "    if i !=0:\n",
    "        print(i)"
   ]
  },
  {
   "cell_type": "code",
   "execution_count": 63,
   "id": "9d247bc1",
   "metadata": {
    "ExecuteTime": {
     "end_time": "2022-06-22T16:16:37.380111Z",
     "start_time": "2022-06-22T16:16:18.525740Z"
    }
   },
   "outputs": [
    {
     "name": "stdout",
     "output_type": "stream",
     "text": [
      "5\n",
      "10 -1\n",
      "10 1 -1\n",
      "4 1 -1\n",
      "4 3 1 -1\n",
      "3 3 -1\n",
      "10\n",
      "20\n",
      "14\n",
      "18\n",
      "17\n"
     ]
    }
   ],
   "source": [
    "#답안 예시\n",
    "from collections import deque\n",
    "import copy\n",
    "v = int(input())\n",
    "\n",
    "indegree = [0] * (v+1)\n",
    "graph = [[] for i in range(v+1)]\n",
    "time = [0] * (v+1)\n",
    "for i in range(1, v+1):\n",
    "    data = list(map(int, input().split()))\n",
    "    time[i] = data[0]\n",
    "    for x in data[1:-1]:\n",
    "        indegree[i] += 1\n",
    "        graph[x].append(i)\n",
    "def topology_sort():\n",
    "    result = copy.deepcopy(time) #copy의 deepcopy사용\n",
    "    q = deque()\n",
    "    \n",
    "    for i in range(1, v+1):\n",
    "        if indegree[i]==0:\n",
    "            q.append(i)\n",
    "            \n",
    "    while q:\n",
    "        now = q.popleft()\n",
    "        for i in graph[now]:\n",
    "            result[i] = max(result[i],result[now]+time[i])\n",
    "            indegree[i] -= 1\n",
    "            if indegree[i] == 0:\n",
    "                q.append(i)\n",
    "                \n",
    "    for i in range(1, v+1):\n",
    "        print(result[i])\n",
    "            \n",
    "topology_sort()"
   ]
  },
  {
   "cell_type": "code",
   "execution_count": null,
   "id": "0459ed60",
   "metadata": {},
   "outputs": [],
   "source": []
  }
 ],
 "metadata": {
  "kernelspec": {
   "display_name": "Python 3",
   "language": "python",
   "name": "python3"
  },
  "language_info": {
   "codemirror_mode": {
    "name": "ipython",
    "version": 3
   },
   "file_extension": ".py",
   "mimetype": "text/x-python",
   "name": "python",
   "nbconvert_exporter": "python",
   "pygments_lexer": "ipython3",
   "version": "3.8.8"
  },
  "toc": {
   "base_numbering": 1,
   "nav_menu": {},
   "number_sections": true,
   "sideBar": true,
   "skip_h1_title": false,
   "title_cell": "Table of Contents",
   "title_sidebar": "Contents",
   "toc_cell": false,
   "toc_position": {},
   "toc_section_display": true,
   "toc_window_display": false
  },
  "varInspector": {
   "cols": {
    "lenName": 16,
    "lenType": 16,
    "lenVar": 40
   },
   "kernels_config": {
    "python": {
     "delete_cmd_postfix": "",
     "delete_cmd_prefix": "del ",
     "library": "var_list.py",
     "varRefreshCmd": "print(var_dic_list())"
    },
    "r": {
     "delete_cmd_postfix": ") ",
     "delete_cmd_prefix": "rm(",
     "library": "var_list.r",
     "varRefreshCmd": "cat(var_dic_list()) "
    }
   },
   "types_to_exclude": [
    "module",
    "function",
    "builtin_function_or_method",
    "instance",
    "_Feature"
   ],
   "window_display": false
  }
 },
 "nbformat": 4,
 "nbformat_minor": 5
}
