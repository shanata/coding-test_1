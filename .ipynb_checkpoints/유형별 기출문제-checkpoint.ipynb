{
 "cells": [
  {
   "cell_type": "markdown",
   "id": "b38bdeae",
   "metadata": {},
   "source": [
    "# 그리디 문제"
   ]
  },
  {
   "cell_type": "markdown",
   "id": "791560e1",
   "metadata": {},
   "source": [
    "## 모험가 길드"
   ]
  },
  {
   "cell_type": "code",
   "execution_count": 36,
   "id": "53e557a1",
   "metadata": {
    "ExecuteTime": {
     "end_time": "2022-06-24T13:49:19.954497Z",
     "start_time": "2022-06-24T13:49:15.914218Z"
    }
   },
   "outputs": [
    {
     "name": "stdout",
     "output_type": "stream",
     "text": [
      "5\n",
      "2 3 1 2 2\n",
      "[2, 2, 2, 3]\n",
      "[]\n",
      "[3]\n",
      "[2]\n",
      "[]\n",
      "[2, 3]\n",
      "[]\n",
      "[3, 2]\n",
      "3\n"
     ]
    }
   ],
   "source": [
    "n = int(input())\n",
    "lst = list(map(int,input().split()))\n",
    "lst = sorted(lst)\n",
    "count = 0\n",
    "last = []\n",
    "for i in range(1,n+1):\n",
    "    if len(lst) == 0:\n",
    "        break\n",
    "    if lst[0] == i:\n",
    "        m = lst.count(i)\n",
    "        \n",
    "        for _ in range((m//i)*i):\n",
    "            lst.pop(0)\n",
    "            count += 1\n",
    "        for _ in range(m-(i*(m//i))):\n",
    "            last.append(lst.pop(0))\n",
    "            \n",
    "        print(lst)\n",
    "        print(last)\n",
    "last = sorted(last, reverse=True)            \n",
    "\n",
    "while True:\n",
    "    if len(last) ==0:\n",
    "        break\n",
    "    \n",
    "    elif (last[0]<=len(last)):\n",
    "        x = last[0]\n",
    "        for _ in range(x):\n",
    "            last.pop(0)\n",
    "        count += 1\n",
    "        print(lst)\n",
    "    else:\n",
    "        last.pop(0)\n",
    "        continue\n",
    "print(lst)\n",
    "print(last)\n",
    "print(count)"
   ]
  },
  {
   "cell_type": "markdown",
   "id": "a2549e49",
   "metadata": {
    "ExecuteTime": {
     "end_time": "2022-06-24T13:50:56.411482Z",
     "start_time": "2022-06-24T13:50:56.393482Z"
    }
   },
   "source": [
    "## 곱하기 혹은 더하기"
   ]
  },
  {
   "cell_type": "code",
   "execution_count": 9,
   "id": "39cfbf27",
   "metadata": {
    "ExecuteTime": {
     "end_time": "2022-06-24T14:48:27.972130Z",
     "start_time": "2022-06-24T14:48:26.352360Z"
    }
   },
   "outputs": [
    {
     "name": "stdout",
     "output_type": "stream",
     "text": [
      "567\n",
      "[5, 6, 7]\n",
      "[0, 5, 6, 7]\n",
      "210\n"
     ]
    }
   ],
   "source": [
    "s = list(map(int,input()))\n",
    "print(s)\n",
    "s.insert(0,0)\n",
    "print(s)\n",
    "total = 0\n",
    "for i in range(1,len(s)):\n",
    "    if s[i] == 0 or s[i-1] == 0 or s[i] == 1:\n",
    "        total += s[i]\n",
    "    else:\n",
    "        total *= s[i]\n",
    "\n",
    "print(total)        "
   ]
  },
  {
   "cell_type": "code",
   "execution_count": null,
   "id": "f7ff4656",
   "metadata": {},
   "outputs": [],
   "source": []
  }
 ],
 "metadata": {
  "kernelspec": {
   "display_name": "Python 3",
   "language": "python",
   "name": "python3"
  },
  "language_info": {
   "codemirror_mode": {
    "name": "ipython",
    "version": 3
   },
   "file_extension": ".py",
   "mimetype": "text/x-python",
   "name": "python",
   "nbconvert_exporter": "python",
   "pygments_lexer": "ipython3",
   "version": "3.8.8"
  },
  "toc": {
   "base_numbering": 1,
   "nav_menu": {},
   "number_sections": true,
   "sideBar": true,
   "skip_h1_title": false,
   "title_cell": "Table of Contents",
   "title_sidebar": "Contents",
   "toc_cell": false,
   "toc_position": {},
   "toc_section_display": true,
   "toc_window_display": false
  },
  "varInspector": {
   "cols": {
    "lenName": 16,
    "lenType": 16,
    "lenVar": 40
   },
   "kernels_config": {
    "python": {
     "delete_cmd_postfix": "",
     "delete_cmd_prefix": "del ",
     "library": "var_list.py",
     "varRefreshCmd": "print(var_dic_list())"
    },
    "r": {
     "delete_cmd_postfix": ") ",
     "delete_cmd_prefix": "rm(",
     "library": "var_list.r",
     "varRefreshCmd": "cat(var_dic_list()) "
    }
   },
   "types_to_exclude": [
    "module",
    "function",
    "builtin_function_or_method",
    "instance",
    "_Feature"
   ],
   "window_display": false
  }
 },
 "nbformat": 4,
 "nbformat_minor": 5
}
