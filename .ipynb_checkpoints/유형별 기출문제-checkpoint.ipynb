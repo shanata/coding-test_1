{
 "cells": [
  {
   "cell_type": "markdown",
   "id": "b38bdeae",
   "metadata": {},
   "source": [
    "# 그리디 문제"
   ]
  },
  {
   "cell_type": "markdown",
   "id": "791560e1",
   "metadata": {},
   "source": [
    "## 모험가 길드"
   ]
  },
  {
   "cell_type": "code",
   "execution_count": 36,
   "id": "53e557a1",
   "metadata": {
    "ExecuteTime": {
     "end_time": "2022-06-24T13:49:19.954497Z",
     "start_time": "2022-06-24T13:49:15.914218Z"
    }
   },
   "outputs": [
    {
     "name": "stdout",
     "output_type": "stream",
     "text": [
      "5\n",
      "2 3 1 2 2\n",
      "[2, 2, 2, 3]\n",
      "[]\n",
      "[3]\n",
      "[2]\n",
      "[]\n",
      "[2, 3]\n",
      "[]\n",
      "[3, 2]\n",
      "3\n"
     ]
    }
   ],
   "source": [
    "n = int(input())\n",
    "lst = list(map(int,input().split()))\n",
    "lst = sorted(lst)\n",
    "count = 0\n",
    "last = []\n",
    "for i in range(1,n+1):\n",
    "    if len(lst) == 0:\n",
    "        break\n",
    "    if lst[0] == i:\n",
    "        m = lst.count(i)\n",
    "        \n",
    "        for _ in range((m//i)*i):\n",
    "            lst.pop(0)\n",
    "            count += 1\n",
    "        for _ in range(m-(i*(m//i))):\n",
    "            last.append(lst.pop(0))\n",
    "            \n",
    "        print(lst)\n",
    "        print(last)\n",
    "last = sorted(last, reverse=True)            \n",
    "\n",
    "while True:\n",
    "    if len(last) ==0:\n",
    "        break\n",
    "    \n",
    "    elif (last[0]<=len(last)):\n",
    "        x = last[0]\n",
    "        for _ in range(x):\n",
    "            last.pop(0)\n",
    "        count += 1\n",
    "        print(lst)\n",
    "    else:\n",
    "        last.pop(0)\n",
    "        continue\n",
    "print(lst)\n",
    "print(last)\n",
    "print(count)"
   ]
  },
  {
   "cell_type": "markdown",
   "id": "a2549e49",
   "metadata": {
    "ExecuteTime": {
     "end_time": "2022-06-24T13:50:56.411482Z",
     "start_time": "2022-06-24T13:50:56.393482Z"
    }
   },
   "source": [
    "## 곱하기 혹은 더하기"
   ]
  },
  {
   "cell_type": "code",
   "execution_count": 9,
   "id": "39cfbf27",
   "metadata": {
    "ExecuteTime": {
     "end_time": "2022-06-24T14:48:27.972130Z",
     "start_time": "2022-06-24T14:48:26.352360Z"
    }
   },
   "outputs": [
    {
     "name": "stdout",
     "output_type": "stream",
     "text": [
      "567\n",
      "[5, 6, 7]\n",
      "[0, 5, 6, 7]\n",
      "210\n"
     ]
    }
   ],
   "source": [
    "s = list(map(int,input()))\n",
    "s.insert(0,0)\n",
    "total = 0\n",
    "for i in range(1,len(s)):\n",
    "    if s[i] == 0 or s[i-1] == 0 or s[i] == 1:\n",
    "        total += s[i]\n",
    "    else:\n",
    "        total *= s[i]\n",
    "\n",
    "print(total)        "
   ]
  },
  {
   "cell_type": "markdown",
   "id": "e09230dc",
   "metadata": {},
   "source": [
    "## 문자열 뒤집기"
   ]
  },
  {
   "cell_type": "code",
   "execution_count": 10,
   "id": "b47636f2",
   "metadata": {
    "ExecuteTime": {
     "end_time": "2022-06-28T15:24:57.965675Z",
     "start_time": "2022-06-28T15:24:55.578714Z"
    }
   },
   "outputs": [
    {
     "name": "stdout",
     "output_type": "stream",
     "text": [
      "0001100\n",
      "1\n"
     ]
    }
   ],
   "source": [
    "s = input()\n",
    "chunk = [0] * len(s)\n",
    "check_var = s[0]\n",
    "i = 0\n",
    "for c in s:\n",
    "    if c == check_var:\n",
    "        chunk[i] += 1\n",
    "    elif c != check_var:\n",
    "        check_var = c\n",
    "        i += 1\n",
    "        chunk[i] += 1\n",
    "\n",
    "count_0 = 0\n",
    "count_1 = 0\n",
    "for j in range(len(s)):\n",
    "    if j // 2 == 0:\n",
    "        if chunk[j] != 0:\n",
    "            count_0 += 1\n",
    "    else:\n",
    "        if chunk[j] != 0:\n",
    "            count_1 += 1\n",
    "            \n",
    "result = min(count_0,count_1)\n",
    "print(result)"
   ]
  },
  {
   "cell_type": "markdown",
   "id": "7f866896",
   "metadata": {},
   "source": [
    "## 만들 수 없는 금액"
   ]
  },
  {
   "cell_type": "code",
   "execution_count": 18,
   "id": "e8be02da",
   "metadata": {
    "ExecuteTime": {
     "end_time": "2022-06-28T15:37:01.011064Z",
     "start_time": "2022-06-28T15:37:00.994056Z"
    }
   },
   "outputs": [
    {
     "name": "stdout",
     "output_type": "stream",
     "text": [
      "[5, 4, 4, 12, 3, 3, 11, 2, 10, 10]\n"
     ]
    }
   ],
   "source": [
    "from itertools import combinations as cb\n",
    "coin = [3,2,1,1,9]\n",
    "cb_list = list(cb(coin,2))\n",
    "sum_list = []\n",
    "for i in cb(coin,2):\n",
    "    sum_list.append(sum(i))\n",
    "print(sum_list)\n"
   ]
  },
  {
   "cell_type": "code",
   "execution_count": 28,
   "id": "eb86484d",
   "metadata": {
    "ExecuteTime": {
     "end_time": "2022-06-28T15:57:11.225714Z",
     "start_time": "2022-06-28T15:57:05.364067Z"
    }
   },
   "outputs": [
    {
     "name": "stdout",
     "output_type": "stream",
     "text": [
      "5\n",
      "1 1 1 1 5\n",
      "10\n"
     ]
    }
   ],
   "source": [
    "from itertools import combinations as cb\n",
    "n = int(input())\n",
    "coin = list(map(int,input().split()))\n",
    "sum_list = []\n",
    "for i in range(1, n+1):\n",
    "    for j in cb(coin,i):\n",
    "        sum_list.append(sum(j))\n",
    "result = 1\n",
    "while True:\n",
    "    if result in sum_list:\n",
    "        result += 1\n",
    "        continue\n",
    "    else:\n",
    "        print(result)\n",
    "        break\n",
    "        "
   ]
  },
  {
   "cell_type": "code",
   "execution_count": 1,
   "id": "9c76dd84",
   "metadata": {
    "ExecuteTime": {
     "end_time": "2022-07-02T04:32:08.350939Z",
     "start_time": "2022-07-02T04:32:05.007671Z"
    }
   },
   "outputs": [
    {
     "name": "stdout",
     "output_type": "stream",
     "text": [
      "2\n",
      "1 5\n",
      "2\n"
     ]
    }
   ],
   "source": [
    "#정답 예시 : \n",
    "n = int(input())\n",
    "coin = list(map(int,input().split()))\n",
    "coin.sort()\n",
    "\n",
    "target = 1\n",
    "for x in coin:\n",
    "    if target < x:\n",
    "        break\n",
    "    target += x\n",
    "    \n",
    "    \n",
    "print(target)"
   ]
  },
  {
   "cell_type": "markdown",
   "id": "bc006b55",
   "metadata": {
    "ExecuteTime": {
     "end_time": "2022-07-02T13:39:51.983931Z",
     "start_time": "2022-07-02T13:39:51.961923Z"
    }
   },
   "source": [
    "## 볼링공 고르기"
   ]
  },
  {
   "cell_type": "code",
   "execution_count": 6,
   "id": "48e71e43",
   "metadata": {
    "ExecuteTime": {
     "end_time": "2022-07-02T15:58:04.915054Z",
     "start_time": "2022-07-02T15:58:04.894057Z"
    }
   },
   "outputs": [
    {
     "name": "stdout",
     "output_type": "stream",
     "text": [
      "8\n"
     ]
    }
   ],
   "source": [
    "n, m = 5, 3 #map(int,input().split())\n",
    "k = [1,3,2,3,2] #list(map(int, input().split()))\n",
    "count = 0\n",
    "while k:\n",
    "    target = k.pop()\n",
    "    for i in k:\n",
    "        if i != target:\n",
    "            count += 1\n",
    "print(count)"
   ]
  },
  {
   "cell_type": "markdown",
   "id": "36328a0c",
   "metadata": {},
   "source": [
    "## 무지의 먹방 라이브"
   ]
  },
  {
   "cell_type": "code",
   "execution_count": 10,
   "id": "47f986be",
   "metadata": {
    "ExecuteTime": {
     "end_time": "2022-07-02T16:09:51.998671Z",
     "start_time": "2022-07-02T16:09:51.981675Z"
    }
   },
   "outputs": [],
   "source": [
    "def solution(food_times,k):\n",
    "    i = 0\n",
    "    for _ in range(k):\n",
    "        if len(food_times) == i:\n",
    "            i = 0\n",
    "        food_times[i] -= 1\n",
    "        if food_times[i] == 0:\n",
    "            food_times.pop(i)\n",
    "        i += 1\n",
    "    print(i)  "
   ]
  },
  {
   "cell_type": "code",
   "execution_count": 11,
   "id": "917aef61",
   "metadata": {
    "ExecuteTime": {
     "end_time": "2022-07-02T16:09:52.564268Z",
     "start_time": "2022-07-02T16:09:52.558250Z"
    },
    "scrolled": true
   },
   "outputs": [
    {
     "name": "stdout",
     "output_type": "stream",
     "text": [
      "1\n"
     ]
    }
   ],
   "source": [
    "solution([3,1,2],5)"
   ]
  },
  {
   "cell_type": "markdown",
   "id": "6083f9ad",
   "metadata": {},
   "source": [
    "# 구현문제"
   ]
  },
  {
   "cell_type": "markdown",
   "id": "377cd15a",
   "metadata": {},
   "source": [
    "## 럭키 스트레이트"
   ]
  },
  {
   "cell_type": "code",
   "execution_count": 14,
   "id": "187da12e",
   "metadata": {
    "ExecuteTime": {
     "end_time": "2022-07-02T16:15:33.406563Z",
     "start_time": "2022-07-02T16:15:29.151768Z"
    }
   },
   "outputs": [
    {
     "name": "stdout",
     "output_type": "stream",
     "text": [
      "123402\n",
      "LUCKY\n"
     ]
    }
   ],
   "source": [
    "n = input()\n",
    "k = len(n)//2\n",
    "front = 0\n",
    "back = 0\n",
    "for i in range(k):\n",
    "    front += int(n[i])\n",
    "    back += int(n[i+k])\n",
    "    \n",
    "if front == back:\n",
    "    print(\"LUCKY\")\n",
    "else:\n",
    "    print(\"READY\")"
   ]
  },
  {
   "cell_type": "markdown",
   "id": "6f1e43b5",
   "metadata": {},
   "source": [
    "## 문자열 재정렬"
   ]
  },
  {
   "cell_type": "code",
   "execution_count": 45,
   "id": "3109ca4e",
   "metadata": {
    "ExecuteTime": {
     "end_time": "2022-09-05T10:39:22.542247Z",
     "start_time": "2022-09-05T10:39:22.498204Z"
    }
   },
   "outputs": [
    {
     "name": "stdout",
     "output_type": "stream",
     "text": [
      "48 57 65 90\n"
     ]
    },
    {
     "data": {
      "text/plain": [
       "'None'"
      ]
     },
     "execution_count": 45,
     "metadata": {},
     "output_type": "execute_result"
    }
   ],
   "source": [
    "import random\n",
    "print(ord('0'),ord('9'),ord('A'),ord('Z'))\n",
    "str_ = ''\n",
    "for i in range(5000):\n",
    "    x = random.randint(48,57)\n",
    "    str_ = str_ + chr(x)\n",
    "for i in range(5000):\n",
    "    x = random.randint(65,90)\n",
    "    str_ = str_ + chr(x)\n",
    "str(random.shuffle(list(str_)))"
   ]
  },
  {
   "cell_type": "code",
   "execution_count": 46,
   "id": "9fa04a7e",
   "metadata": {
    "ExecuteTime": {
     "end_time": "2022-09-05T10:39:28.198422Z",
     "start_time": "2022-09-05T10:39:28.175198Z"
    }
   },
   "outputs": [
    {
     "name": "stdout",
     "output_type": "stream",
     "text": [
      "AAAAAAAAAAAAAAAAAAAAAAAAAAAAAAAAAAAAAAAAAAAAAAAAAAAAAAAAAAAAAAAAAAAAAAAAAAAAAAAAAAAAAAAAAAAAAAAAAAAAAAAAAAAAAAAAAAAAAAAAAAAAAAAAAAAAAAAAAAAAAAAAAAAAAAAAAAAAAAAAAAABBBBBBBBBBBBBBBBBBBBBBBBBBBBBBBBBBBBBBBBBBBBBBBBBBBBBBBBBBBBBBBBBBBBBBBBBBBBBBBBBBBBBBBBBBBBBBBBBBBBBBBBBBBBBBBBBBBBBBBBBBBBBBBBBBBBBBBBBBBBBBBBBBBBBBBBBBBBBBBBBBBBBBBBBBBBBBBBBBBBBBBBBBBBBBBBBBBBBBBBCCCCCCCCCCCCCCCCCCCCCCCCCCCCCCCCCCCCCCCCCCCCCCCCCCCCCCCCCCCCCCCCCCCCCCCCCCCCCCCCCCCCCCCCCCCCCCCCCCCCCCCCCCCCCCCCCCCCCCCCCCCCCCCCCCCCCCCCCCCCCCCCCCCCCCCCCCCCCCCCCCCCCCCCCCCCCCCCCCCCCCCCCCCCCCCCCCCCCCCCCDDDDDDDDDDDDDDDDDDDDDDDDDDDDDDDDDDDDDDDDDDDDDDDDDDDDDDDDDDDDDDDDDDDDDDDDDDDDDDDDDDDDDDDDDDDDDDDDDDDDDDDDDDDDDDDDDDDDDDDDDDDDDDDDDDDDDDDDDDDDDDDDDDDDDDDDDDDDDDDDDDDDDDDDDDDDDDDDDDEEEEEEEEEEEEEEEEEEEEEEEEEEEEEEEEEEEEEEEEEEEEEEEEEEEEEEEEEEEEEEEEEEEEEEEEEEEEEEEEEEEEEEEEEEEEEEEEEEEEEEEEEEEEEEEEEEEEEEEEEEEEEEEEEEEEEEEEEEEEEEEEEEEEEEEEEEEEEEEEEEEEEEEEEEEEEEEEEEEEEEEEEEEEEEEEEEEEEEEEEEEEEEEEEEEFFFFFFFFFFFFFFFFFFFFFFFFFFFFFFFFFFFFFFFFFFFFFFFFFFFFFFFFFFFFFFFFFFFFFFFFFFFFFFFFFFFFFFFFFFFFFFFFFFFFFFFFFFFFFFFFFFFFFFFFFFFFFFFFFFFFFFFFFFFFFFFFFFFFFFFFFFFFFFFFFFFFFFFFFGGGGGGGGGGGGGGGGGGGGGGGGGGGGGGGGGGGGGGGGGGGGGGGGGGGGGGGGGGGGGGGGGGGGGGGGGGGGGGGGGGGGGGGGGGGGGGGGGGGGGGGGGGGGGGGGGGGGGGGGGGGGGGGGGGGGGGGGGGGGGGGGGGGGGGGGGGGGGGGGGGGGGGGGGGGGGGGGGGGGGGGGGGGGGGGGGGGGGGGGGGGHHHHHHHHHHHHHHHHHHHHHHHHHHHHHHHHHHHHHHHHHHHHHHHHHHHHHHHHHHHHHHHHHHHHHHHHHHHHHHHHHHHHHHHHHHHHHHHHHHHHHHHHHHHHHHHHHHHHHHHHHHHHHHHHHHHHHHHHHHHHHHHHHHHHHHHHHHHHHHHHHHHHHHHHHHHHHHHHHHHHHHHHHHHHHHHHHHHHHHHHHHHHHHIIIIIIIIIIIIIIIIIIIIIIIIIIIIIIIIIIIIIIIIIIIIIIIIIIIIIIIIIIIIIIIIIIIIIIIIIIIIIIIIIIIIIIIIIIIIIIIIIIIIIIIIIIIIIIIIIIIIIIIIIIIIIIIIIIIIIIIIIIIIIIIIIIIIIIIIIIIIIIIIIIIIIIIIIIIIIIIIIIIIIIIIIIIIIIIIIIIIIIIIIIIIIJJJJJJJJJJJJJJJJJJJJJJJJJJJJJJJJJJJJJJJJJJJJJJJJJJJJJJJJJJJJJJJJJJJJJJJJJJJJJJJJJJJJJJJJJJJJJJJJJJJJJJJJJJJJJJJJJJJJJJJJJJJJJJJJJJJJJJJJJJJJJJJJJJJJJJJJJJJJJJJJJJJJKKKKKKKKKKKKKKKKKKKKKKKKKKKKKKKKKKKKKKKKKKKKKKKKKKKKKKKKKKKKKKKKKKKKKKKKKKKKKKKKKKKKKKKKKKKKKKKKKKKKKKKKKKKKKKKKKKKKKKKKKKKKKKKKKKKKKKKKKKKKKKKKKKKKKKKKKKKKKKKKKKKKKKKKKKKKKKKKKKKKKKKKKKKKKKKKKKKKKKKKKKKKKKKKKKKKKKKKKKKLLLLLLLLLLLLLLLLLLLLLLLLLLLLLLLLLLLLLLLLLLLLLLLLLLLLLLLLLLLLLLLLLLLLLLLLLLLLLLLLLLLLLLLLLLLLLLLLLLLLLLLLLLLLLLLLLLLLLLLLLLLLLLLLLLLLLLLLLLLLLLLLLLLLLLLLLLLLLLLLLLLLLLLLLLLLLLLLLLLLLLLLLLLLLLLLLLLLLLMMMMMMMMMMMMMMMMMMMMMMMMMMMMMMMMMMMMMMMMMMMMMMMMMMMMMMMMMMMMMMMMMMMMMMMMMMMMMMMMMMMMMMMMMMMMMMMMMMMMMMMMMMMMMMMMMMMMMMMMMMMMMMMMMMMMMMMMMMMMMMMMMMMMMMMMMMMMMMMMMMMMMMMMMMMMMMMMMMMMMMMMMMMMNNNNNNNNNNNNNNNNNNNNNNNNNNNNNNNNNNNNNNNNNNNNNNNNNNNNNNNNNNNNNNNNNNNNNNNNNNNNNNNNNNNNNNNNNNNNNNNNNNNNNNNNNNNNNNNNNNNNNNNNNNNNNNNNNNNNNNNNNNNNNNNNNNNNNNNNNNNNNNNNNNNNNNNNNNNNNNNNNNNNNNNNNOOOOOOOOOOOOOOOOOOOOOOOOOOOOOOOOOOOOOOOOOOOOOOOOOOOOOOOOOOOOOOOOOOOOOOOOOOOOOOOOOOOOOOOOOOOOOOOOOOOOOOOOOOOOOOOOOOOOOOOOOOOOOOOOOOOOOOOOOOOOOOOOOOOOOOOOOOOOOOOOOOOOOOOOOOOOOOOOOPPPPPPPPPPPPPPPPPPPPPPPPPPPPPPPPPPPPPPPPPPPPPPPPPPPPPPPPPPPPPPPPPPPPPPPPPPPPPPPPPPPPPPPPPPPPPPPPPPPPPPPPPPPPPPPPPPPPPPPPPPPPPPPPPPPPPPPPPPPPPPPPPPPPPPPPPPPPPPPPPPPPPPPPPPPPPPPPPPPPPPPPPPPPPPPPPPPPPPPPPPPPPQQQQQQQQQQQQQQQQQQQQQQQQQQQQQQQQQQQQQQQQQQQQQQQQQQQQQQQQQQQQQQQQQQQQQQQQQQQQQQQQQQQQQQQQQQQQQQQQQQQQQQQQQQQQQQQQQQQQQQQQQQQQQQQQQQQQQQQQQQQQQQQQQQQQQQQQQQQQQQQQQQQQQQQQQQQQQQQQQQQQQQQQQQQQQQQQQQQQQQQQQQQQQQQQQQQQQRRRRRRRRRRRRRRRRRRRRRRRRRRRRRRRRRRRRRRRRRRRRRRRRRRRRRRRRRRRRRRRRRRRRRRRRRRRRRRRRRRRRRRRRRRRRRRRRRRRRRRRRRRRRRRRRRRRRRRRRRRRRRRRRRRRRRRRRRRRRRRRRRRRRRRRRRRRRRRRRRRRRRRRRRRRRRRRRRRRRRRRRRRRRRRRSSSSSSSSSSSSSSSSSSSSSSSSSSSSSSSSSSSSSSSSSSSSSSSSSSSSSSSSSSSSSSSSSSSSSSSSSSSSSSSSSSSSSSSSSSSSSSSSSSSSSSSSSSSSSSSSSSSSSSSSSSSSSSSSSSSSSSSSSSSSSSSSSSSSSSSSSSSSSSSSSSSSSSSSSSSSSSSSSSSSSSSSSSSSSSSSSSSSSSSTTTTTTTTTTTTTTTTTTTTTTTTTTTTTTTTTTTTTTTTTTTTTTTTTTTTTTTTTTTTTTTTTTTTTTTTTTTTTTTTTTTTTTTTTTTTTTTTTTTTTTTTTTTTTTTTTTTTTTTTTTTTTTTTTTTTTTTTTTTTTTTTTTTTTTTTTTTTTTTTTTTTTTTTTTTTTTTTTTTTTUUUUUUUUUUUUUUUUUUUUUUUUUUUUUUUUUUUUUUUUUUUUUUUUUUUUUUUUUUUUUUUUUUUUUUUUUUUUUUUUUUUUUUUUUUUUUUUUUUUUUUUUUUUUUUUUUUUUUUUUUUUUUUUUUUUUUUUUUUUUUUUUUUUUUUUUUUUUUUUUUUUUUUUUUUUUUUUUUUUUUUUUUUUUUUUUUUUUUUVVVVVVVVVVVVVVVVVVVVVVVVVVVVVVVVVVVVVVVVVVVVVVVVVVVVVVVVVVVVVVVVVVVVVVVVVVVVVVVVVVVVVVVVVVVVVVVVVVVVVVVVVVVVVVVVVVVVVVVVVVVVVVVVVVVVVVVVVVVVVVVVVVVVVVVVVVVVVVVVVVVVVVVVVVVVVVVVVVVVVVVVVVVVVVVVVVVVVWWWWWWWWWWWWWWWWWWWWWWWWWWWWWWWWWWWWWWWWWWWWWWWWWWWWWWWWWWWWWWWWWWWWWWWWWWWWWWWWWWWWWWWWWWWWWWWWWWWWWWWWWWWWWWWWWWWWWWWWWWWWWWWWWWWWWWWWWWWWWWWWWWWWWWWWWWWWWWWWWWWWWWWWWWWWWWWWWWWWWWWWWWWWWWWWXXXXXXXXXXXXXXXXXXXXXXXXXXXXXXXXXXXXXXXXXXXXXXXXXXXXXXXXXXXXXXXXXXXXXXXXXXXXXXXXXXXXXXXXXXXXXXXXXXXXXXXXXXXXXXXXXXXXXXXXXXXXXXXXXXXXXXXXXXXXXXXXXXXXXXXXXXXXXXXXXXXXXXXXXXXXXXXXXXXYYYYYYYYYYYYYYYYYYYYYYYYYYYYYYYYYYYYYYYYYYYYYYYYYYYYYYYYYYYYYYYYYYYYYYYYYYYYYYYYYYYYYYYYYYYYYYYYYYYYYYYYYYYYYYYYYYYYYYYYYYYYYYYYYYYYYYYYYYYYYYYYYYYYYYYYYYYYYYYYYYYYYYYYYYYYYYYYYYYYYYYYYYYYYYYYZZZZZZZZZZZZZZZZZZZZZZZZZZZZZZZZZZZZZZZZZZZZZZZZZZZZZZZZZZZZZZZZZZZZZZZZZZZZZZZZZZZZZZZZZZZZZZZZZZZZZZZZZZZZZZZZZZZZZZZZZZZZZZZZZZZZZZZZZZZZZZZZZZZZZZZZZZZZZZZZZZZZZZZZZZZZZZZZZZZZZZZZZZ22157\n"
     ]
    }
   ],
   "source": [
    "\n",
    "# str_ = 'AJKDLSI412K4JSJ9D' #input()\n",
    "str_lst = []\n",
    "sum = 0\n",
    "for i in str_:    \n",
    "    if ord(i) > 57:\n",
    "        str_lst.append(i)\n",
    "    else:\n",
    "        sum += int(i)\n",
    "str_lst.sort()\n",
    "str_lst.append(str(sum))\n",
    "print(''.join(str_lst))"
   ]
  },
  {
   "cell_type": "markdown",
   "id": "842d3775",
   "metadata": {},
   "source": [
    "## 문자열 압축"
   ]
  },
  {
   "cell_type": "markdown",
   "id": "c731bf66",
   "metadata": {},
   "source": [
    "temp_1과 temp_2를 비교 했을 때 일어 날 수 있는 경우들\n",
    "처음 중복이 시작된 경우 / aa -> 2a  abab -> 2ab abcabc -> 2abc  토막 크기가 i 이면 i-1만큼 줄어든다 \n",
    "중복이 이어지는 경우 / aaa 2aa -> 3a abcabcabc -> 2abcabc -> 3abc 전체 길이 -i\n",
    "                        9abcabc -> 10abc -i +1 만큼 변화 -> key 값을 이용해서 고려해줘야함\n",
    "중복이 끝난 경우 /ab -> ab 전체 길이 변화 x\n"
   ]
  },
  {
   "cell_type": "code",
   "execution_count": 96,
   "id": "80794e35",
   "metadata": {
    "ExecuteTime": {
     "end_time": "2022-09-05T13:12:08.017804Z",
     "start_time": "2022-09-05T13:12:07.995175Z"
    }
   },
   "outputs": [],
   "source": [
    "def solution(s):\n",
    "    length = len(s)\n",
    "    answer = length\n",
    "    if length == 1:\n",
    "        return answer\n",
    "    \n",
    "    for i in range(1,(length//2)+1):\n",
    "        \n",
    "        start = i\n",
    "        temp_1 = s[0:i]\n",
    "        temp_ans = length\n",
    "        key = 0\n",
    "        \n",
    "        for _ in range((length//i)-1):\n",
    "            temp_2 = s[start:start+i]\n",
    "            if  temp_2 == temp_1:\n",
    "                if key == 0:\n",
    "                    key = 1\n",
    "                    temp_ans -= (i-1)\n",
    "                \n",
    "                else:\n",
    "                    key += 1\n",
    "                    temp_ans -= i\n",
    "                    if key in [9,99,999]:\n",
    "                        temp_ans += 1\n",
    "            elif temp_2 != temp_1:\n",
    "                temp_1 = temp_2\n",
    "                key = 0\n",
    "            \n",
    "            start += i    \n",
    "        \n",
    "        answer = min(answer,temp_ans)\n",
    "           \n",
    "    \n",
    "    \n",
    "    return answer"
   ]
  },
  {
   "cell_type": "code",
   "execution_count": 98,
   "id": "d2f6c091",
   "metadata": {
    "ExecuteTime": {
     "end_time": "2022-09-05T13:12:47.820522Z",
     "start_time": "2022-09-05T13:12:47.813029Z"
    }
   },
   "outputs": [
    {
     "data": {
      "text/plain": [
       "14"
      ]
     },
     "execution_count": 98,
     "metadata": {},
     "output_type": "execute_result"
    }
   ],
   "source": [
    "solution('abcabcabcabcdededededede')"
   ]
  },
  {
   "cell_type": "code",
   "execution_count": 100,
   "id": "43ffdbb6",
   "metadata": {
    "ExecuteTime": {
     "end_time": "2022-09-05T13:14:19.822294Z",
     "start_time": "2022-09-05T13:14:19.812099Z"
    }
   },
   "outputs": [
    {
     "data": {
      "text/plain": [
       "17"
      ]
     },
     "execution_count": 100,
     "metadata": {},
     "output_type": "execute_result"
    }
   ],
   "source": [
    "solution('xababcdcdababcdcd')"
   ]
  },
  {
   "cell_type": "code",
   "execution_count": 101,
   "id": "46d7d8c1",
   "metadata": {
    "ExecuteTime": {
     "end_time": "2022-09-05T13:36:24.607743Z",
     "start_time": "2022-09-05T13:36:24.597664Z"
    }
   },
   "outputs": [
    {
     "data": {
      "text/plain": [
       "5"
      ]
     },
     "execution_count": 101,
     "metadata": {},
     "output_type": "execute_result"
    }
   ],
   "source": [
    "solution('aaaaaaaaabaa')"
   ]
  },
  {
   "cell_type": "markdown",
   "id": "c8cb4f45",
   "metadata": {},
   "source": [
    "## 자물쇠와 열쇠"
   ]
  },
  {
   "cell_type": "markdown",
   "id": "6fee2d34",
   "metadata": {},
   "source": [
    "먼저 행렬을 회전시키는 행렬 곱 생각해보기\n",
    "(1 2)  * (0  1  0 )   = (3 1)\n",
    "(3 4)    (-1 0 0 )   = (4 2)"
   ]
  },
  {
   "cell_type": "code",
   "execution_count": null,
   "id": "e0b8397c",
   "metadata": {},
   "outputs": [],
   "source": [
    "def solution(key, lock):\n",
    "    answer = True\n",
    "    return answer"
   ]
  }
 ],
 "metadata": {
  "kernelspec": {
   "display_name": "Python 3 (ipykernel)",
   "language": "python",
   "name": "python3"
  },
  "language_info": {
   "codemirror_mode": {
    "name": "ipython",
    "version": 3
   },
   "file_extension": ".py",
   "mimetype": "text/x-python",
   "name": "python",
   "nbconvert_exporter": "python",
   "pygments_lexer": "ipython3",
   "version": "3.9.12"
  },
  "toc": {
   "base_numbering": 1,
   "nav_menu": {},
   "number_sections": true,
   "sideBar": true,
   "skip_h1_title": false,
   "title_cell": "Table of Contents",
   "title_sidebar": "Contents",
   "toc_cell": false,
   "toc_position": {},
   "toc_section_display": true,
   "toc_window_display": false
  },
  "varInspector": {
   "cols": {
    "lenName": 16,
    "lenType": 16,
    "lenVar": 40
   },
   "kernels_config": {
    "python": {
     "delete_cmd_postfix": "",
     "delete_cmd_prefix": "del ",
     "library": "var_list.py",
     "varRefreshCmd": "print(var_dic_list())"
    },
    "r": {
     "delete_cmd_postfix": ") ",
     "delete_cmd_prefix": "rm(",
     "library": "var_list.r",
     "varRefreshCmd": "cat(var_dic_list()) "
    }
   },
   "types_to_exclude": [
    "module",
    "function",
    "builtin_function_or_method",
    "instance",
    "_Feature"
   ],
   "window_display": false
  }
 },
 "nbformat": 4,
 "nbformat_minor": 5
}
