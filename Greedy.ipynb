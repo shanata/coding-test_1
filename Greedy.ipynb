{
 "cells": [
  {
   "cell_type": "markdown",
   "id": "a9d39e81",
   "metadata": {},
   "source": [
    "## 그리디 알고리즘"
   ]
  },
  {
   "cell_type": "markdown",
   "id": "6b8abaf5",
   "metadata": {},
   "source": [
    "### 거스름돈"
   ]
  },
  {
   "cell_type": "code",
   "execution_count": 7,
   "id": "9d16f2b7",
   "metadata": {
    "ExecuteTime": {
     "end_time": "2022-05-15T15:00:21.515424Z",
     "start_time": "2022-05-15T15:00:21.503455Z"
    }
   },
   "outputs": [],
   "source": [
    "def change(n):\n",
    "    count = 0\n",
    "    coin_type = [500, 100, 50, 10]\n",
    "    for coin in coin_type:\n",
    "        count += n // coin\n",
    "        n %= coin\n",
    "    print(count)"
   ]
  },
  {
   "cell_type": "code",
   "execution_count": 8,
   "id": "ed3efa82",
   "metadata": {
    "ExecuteTime": {
     "end_time": "2022-05-15T15:00:21.835917Z",
     "start_time": "2022-05-15T15:00:21.822566Z"
    }
   },
   "outputs": [
    {
     "name": "stdout",
     "output_type": "stream",
     "text": [
      "26\n"
     ]
    }
   ],
   "source": [
    "change(10420)"
   ]
  },
  {
   "cell_type": "markdown",
   "id": "8d1300a0",
   "metadata": {
    "ExecuteTime": {
     "end_time": "2022-05-15T15:02:00.757560Z",
     "start_time": "2022-05-15T15:02:00.746607Z"
    }
   },
   "source": [
    "### 큰 수의 법칙"
   ]
  },
  {
   "cell_type": "code",
   "execution_count": null,
   "id": "7d2bd27f",
   "metadata": {},
   "outputs": [],
   "source": [
    "n, m, k = map(int, imput().split())\n",
    "data = list(map(int, input().split()))\n",
    "\n",
    "data.sort(reverse = True)\n",
    "first = data[0]\n",
    "second = data[1]\n",
    "\n",
    "result = 0\n",
    "\n",
    "while True:\n",
    "    for i in range(k):\n",
    "        if m == 0:\n",
    "            break\n",
    "        result =+ first\n",
    "        m -= 1\n",
    "    if m == 0:\n",
    "        break\n",
    "    result =+ second\n",
    "    m -= 1\n",
    "\n",
    "print(result)"
   ]
  },
  {
   "cell_type": "markdown",
   "id": "61f194e0",
   "metadata": {
    "ExecuteTime": {
     "end_time": "2022-05-15T15:34:54.328647Z",
     "start_time": "2022-05-15T15:34:54.313655Z"
    }
   },
   "source": [
    "#### n이 100억 이상일 때의 경우"
   ]
  },
  {
   "cell_type": "code",
   "execution_count": null,
   "id": "83a8ace7",
   "metadata": {},
   "outputs": [],
   "source": [
    "n, m, k = map(int, imput().split())\n",
    "data = list(map(int, input().split()))\n",
    "\n",
    "data.sort(reverse = True)\n",
    "first = data[0]\n",
    "second = data[1]\n",
    "\n",
    "#가장 큰 수가 더해지는 횟수 계산\n",
    "count = int(m/(k+1))*k\n",
    "count =+ m % (k+1)\n",
    "\n",
    "result = 0\n",
    "result += (count) * first # 가장 큰 수 더하기\n",
    "result += (m-count) * second #두 번쨰로 큰 수 더하기\n",
    "\n",
    "print(result)"
   ]
  },
  {
   "cell_type": "markdown",
   "id": "4ac7edc0",
   "metadata": {},
   "source": [
    "### 숫자카드게임"
   ]
  },
  {
   "cell_type": "code",
   "execution_count": 26,
   "id": "d13e839b",
   "metadata": {
    "ExecuteTime": {
     "end_time": "2022-05-15T16:13:55.483354Z",
     "start_time": "2022-05-15T16:13:55.464381Z"
    }
   },
   "outputs": [
    {
     "data": {
      "text/plain": [
       "array([[6238, 8860, 4878, ...,  892, 1761,  703],\n",
       "       [9014, 7275, 7531, ..., 6494, 6265, 7422],\n",
       "       [3334, 5887, 9820, ..., 2725, 5700, 6582],\n",
       "       ...,\n",
       "       [5538, 1331, 6925, ..., 9822, 1340,  568],\n",
       "       [5335, 5001, 4430, ..., 4622, 7767,  991],\n",
       "       [9161, 6154,  832, ..., 3629, 3808, 8245]])"
      ]
     },
     "execution_count": 26,
     "metadata": {},
     "output_type": "execute_result"
    }
   ],
   "source": [
    "import numpy as np\n",
    "m = 100\n",
    "n = 100\n",
    "mat = np.random.randint(0, 10000, size=(m, n))\n",
    "mat"
   ]
  },
  {
   "cell_type": "code",
   "execution_count": 27,
   "id": "06c7f86e",
   "metadata": {
    "ExecuteTime": {
     "end_time": "2022-05-15T16:13:55.683078Z",
     "start_time": "2022-05-15T16:13:55.671119Z"
    }
   },
   "outputs": [
    {
     "name": "stdout",
     "output_type": "stream",
     "text": [
      "672\n"
     ]
    }
   ],
   "source": [
    "#내 답\n",
    "lst = []\n",
    "for i in range(n):    \n",
    "    y = list(mat[:,i])\n",
    "    y.sort()\n",
    "    lst.append(y[0])\n",
    "lst.sort(reverse= True)\n",
    "print(lst[0])"
   ]
  },
  {
   "cell_type": "markdown",
   "id": "b7c0cd1b",
   "metadata": {
    "ExecuteTime": {
     "end_time": "2022-05-15T16:15:01.125025Z",
     "start_time": "2022-05-15T16:15:01.111957Z"
    }
   },
   "source": [
    "#### py min()함수를 이용하는 답안 예시"
   ]
  },
  {
   "cell_type": "code",
   "execution_count": 32,
   "id": "4a811755",
   "metadata": {
    "ExecuteTime": {
     "end_time": "2022-05-15T16:17:32.933487Z",
     "start_time": "2022-05-15T16:17:24.295658Z"
    }
   },
   "outputs": [
    {
     "name": "stdout",
     "output_type": "stream",
     "text": [
      "3 3\n",
      "3 3 2\n",
      "332\n",
      "333\n",
      "333\n"
     ]
    }
   ],
   "source": [
    "n,m = map(int, input().split())\n",
    "\n",
    "result = 0\n",
    "# 한 줄씩 입력받아 확인\n",
    "for i in range(n):\n",
    "    data = list(map(int, input().split()))\n",
    "    #현재 줄에서 가장 작은 수 찾기\n",
    "    min_value = min(data)\n",
    "    # 가장 작은 수들 중에서 가장 큰 수 찾기\n",
    "    result = max(result, min_value)\n",
    "print(result)"
   ]
  },
  {
   "cell_type": "markdown",
   "id": "b9bfdd07",
   "metadata": {
    "ExecuteTime": {
     "end_time": "2022-05-15T16:18:18.446530Z",
     "start_time": "2022-05-15T16:18:18.441570Z"
    }
   },
   "source": [
    "#### py 2중 반복문 구조를 이용하는 답안 예시"
   ]
  },
  {
   "cell_type": "code",
   "execution_count": 1,
   "id": "0c132386",
   "metadata": {
    "ExecuteTime": {
     "end_time": "2022-05-16T02:39:49.341320Z",
     "start_time": "2022-05-16T02:39:21.770982Z"
    }
   },
   "outputs": [
    {
     "name": "stdout",
     "output_type": "stream",
     "text": [
      "3 3\n",
      "3 1 2\n",
      "4 1 4\n",
      "2 2 2\n",
      "2\n"
     ]
    }
   ],
   "source": [
    "n,m = map(int, input().split())\n",
    "\n",
    "result = 0\n",
    "for i in range(n):\n",
    "    data = list(map(int, input().split()))\n",
    "    min_value = 10001\n",
    "    for a in data:\n",
    "        min_value = min(min_value,a)\n",
    "    result = max(result, min_value)\n",
    "\n",
    "print(result)"
   ]
  },
  {
   "cell_type": "markdown",
   "id": "6b05cb16",
   "metadata": {
    "ExecuteTime": {
     "end_time": "2022-06-10T14:34:27.647037Z",
     "start_time": "2022-06-10T14:34:27.642084Z"
    }
   },
   "source": [
    "### 1이 될 때까지"
   ]
  },
  {
   "cell_type": "code",
   "execution_count": 5,
   "id": "e4b42628",
   "metadata": {
    "ExecuteTime": {
     "end_time": "2022-06-10T14:44:26.274575Z",
     "start_time": "2022-06-10T14:44:17.962814Z"
    }
   },
   "outputs": [
    {
     "name": "stdout",
     "output_type": "stream",
     "text": [
      "25 3\n",
      "6\n"
     ]
    }
   ],
   "source": [
    "N, K = map(int, input().split())\n",
    "\n",
    "result = 0\n",
    "while N != 1:\n",
    "    if N % K == 0:\n",
    "        N //= K\n",
    "        result += 1\n",
    "    else:\n",
    "        N -= 1\n",
    "        result += 1\n",
    "\n",
    "print(result)"
   ]
  },
  {
   "cell_type": "code",
   "execution_count": 6,
   "id": "e2ff2fb4",
   "metadata": {
    "ExecuteTime": {
     "end_time": "2022-06-10T14:44:36.881254Z",
     "start_time": "2022-06-10T14:44:34.210800Z"
    }
   },
   "outputs": [
    {
     "name": "stdout",
     "output_type": "stream",
     "text": [
      "25 3\n",
      "6\n"
     ]
    }
   ],
   "source": [
    "# answer\n",
    "n, k = map(int, input().split())\n",
    "result = 0\n",
    "\n",
    "while n >= k:\n",
    "    while n % k != 0:\n",
    "        n -= 1\n",
    "        result += 1\n",
    "    \n",
    "    n //= k\n",
    "    result += 1\n",
    "    \n",
    "while n > 1:\n",
    "    n -= 1\n",
    "    result += 1\n",
    "    \n",
    "print(result)"
   ]
  },
  {
   "cell_type": "code",
   "execution_count": null,
   "id": "b80b2777",
   "metadata": {},
   "outputs": [],
   "source": [
    "# answer 2\n",
    "\n",
    "n, k = map(int, input().split())\n",
    "\n",
    "result = 0\n",
    "while True:\n",
    "    target = (n//k) * k\n",
    "    result += (n - target)\n",
    "    n = target\n",
    "    \n",
    "    if n < k:\n",
    "        break\n",
    "    result += 1\n",
    "    n //= k\n",
    "\n",
    "result += (n - 1)\n",
    "    \n",
    "print(result)"
   ]
  }
 ],
 "metadata": {
  "kernelspec": {
   "display_name": "Python 3",
   "language": "python",
   "name": "python3"
  },
  "language_info": {
   "codemirror_mode": {
    "name": "ipython",
    "version": 3
   },
   "file_extension": ".py",
   "mimetype": "text/x-python",
   "name": "python",
   "nbconvert_exporter": "python",
   "pygments_lexer": "ipython3",
   "version": "3.8.8"
  },
  "toc": {
   "base_numbering": 1,
   "nav_menu": {
    "height": "91px",
    "width": "305px"
   },
   "number_sections": true,
   "sideBar": true,
   "skip_h1_title": false,
   "title_cell": "Table of Contents",
   "title_sidebar": "Contents",
   "toc_cell": false,
   "toc_position": {},
   "toc_section_display": true,
   "toc_window_display": false
  },
  "varInspector": {
   "cols": {
    "lenName": 16,
    "lenType": 16,
    "lenVar": 40
   },
   "kernels_config": {
    "python": {
     "delete_cmd_postfix": "",
     "delete_cmd_prefix": "del ",
     "library": "var_list.py",
     "varRefreshCmd": "print(var_dic_list())"
    },
    "r": {
     "delete_cmd_postfix": ") ",
     "delete_cmd_prefix": "rm(",
     "library": "var_list.r",
     "varRefreshCmd": "cat(var_dic_list()) "
    }
   },
   "types_to_exclude": [
    "module",
    "function",
    "builtin_function_or_method",
    "instance",
    "_Feature"
   ],
   "window_display": false
  }
 },
 "nbformat": 4,
 "nbformat_minor": 5
}
