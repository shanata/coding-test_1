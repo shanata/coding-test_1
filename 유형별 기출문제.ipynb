{
 "cells": [
  {
   "cell_type": "markdown",
   "id": "b38bdeae",
   "metadata": {},
   "source": [
    "# 그리디 문제"
   ]
  },
  {
   "cell_type": "markdown",
   "id": "791560e1",
   "metadata": {},
   "source": [
    "## 모험가 길드"
   ]
  },
  {
   "cell_type": "code",
   "execution_count": 36,
   "id": "53e557a1",
   "metadata": {
    "ExecuteTime": {
     "end_time": "2022-06-24T13:49:19.954497Z",
     "start_time": "2022-06-24T13:49:15.914218Z"
    }
   },
   "outputs": [
    {
     "name": "stdout",
     "output_type": "stream",
     "text": [
      "5\n",
      "2 3 1 2 2\n",
      "[2, 2, 2, 3]\n",
      "[]\n",
      "[3]\n",
      "[2]\n",
      "[]\n",
      "[2, 3]\n",
      "[]\n",
      "[3, 2]\n",
      "3\n"
     ]
    }
   ],
   "source": [
    "n = int(input())\n",
    "lst = list(map(int,input().split()))\n",
    "lst = sorted(lst)\n",
    "count = 0\n",
    "last = []\n",
    "for i in range(1,n+1):\n",
    "    if len(lst) == 0:\n",
    "        break\n",
    "    if lst[0] == i:\n",
    "        m = lst.count(i)\n",
    "        \n",
    "        for _ in range((m//i)*i):\n",
    "            lst.pop(0)\n",
    "            count += 1\n",
    "        for _ in range(m-(i*(m//i))):\n",
    "            last.append(lst.pop(0))\n",
    "            \n",
    "        print(lst)\n",
    "        print(last)\n",
    "last = sorted(last, reverse=True)            \n",
    "\n",
    "while True:\n",
    "    if len(last) ==0:\n",
    "        break\n",
    "    \n",
    "    elif (last[0]<=len(last)):\n",
    "        x = last[0]\n",
    "        for _ in range(x):\n",
    "            last.pop(0)\n",
    "        count += 1\n",
    "        print(lst)\n",
    "    else:\n",
    "        last.pop(0)\n",
    "        continue\n",
    "print(lst)\n",
    "print(last)\n",
    "print(count)"
   ]
  },
  {
   "cell_type": "markdown",
   "id": "a2549e49",
   "metadata": {
    "ExecuteTime": {
     "end_time": "2022-06-24T13:50:56.411482Z",
     "start_time": "2022-06-24T13:50:56.393482Z"
    }
   },
   "source": [
    "## 곱하기 혹은 더하기"
   ]
  },
  {
   "cell_type": "code",
   "execution_count": 9,
   "id": "39cfbf27",
   "metadata": {
    "ExecuteTime": {
     "end_time": "2022-06-24T14:48:27.972130Z",
     "start_time": "2022-06-24T14:48:26.352360Z"
    }
   },
   "outputs": [
    {
     "name": "stdout",
     "output_type": "stream",
     "text": [
      "567\n",
      "[5, 6, 7]\n",
      "[0, 5, 6, 7]\n",
      "210\n"
     ]
    }
   ],
   "source": [
    "s = list(map(int,input()))\n",
    "s.insert(0,0)\n",
    "total = 0\n",
    "for i in range(1,len(s)):\n",
    "    if s[i] == 0 or s[i-1] == 0 or s[i] == 1:\n",
    "        total += s[i]\n",
    "    else:\n",
    "        total *= s[i]\n",
    "\n",
    "print(total)        "
   ]
  },
  {
   "cell_type": "markdown",
   "id": "e09230dc",
   "metadata": {},
   "source": [
    "## 문자열 뒤집기"
   ]
  },
  {
   "cell_type": "code",
   "execution_count": 10,
   "id": "b47636f2",
   "metadata": {
    "ExecuteTime": {
     "end_time": "2022-06-28T15:24:57.965675Z",
     "start_time": "2022-06-28T15:24:55.578714Z"
    }
   },
   "outputs": [
    {
     "name": "stdout",
     "output_type": "stream",
     "text": [
      "0001100\n",
      "1\n"
     ]
    }
   ],
   "source": [
    "s = input()\n",
    "chunk = [0] * len(s)\n",
    "check_var = s[0]\n",
    "i = 0\n",
    "for c in s:\n",
    "    if c == check_var:\n",
    "        chunk[i] += 1\n",
    "    elif c != check_var:\n",
    "        check_var = c\n",
    "        i += 1\n",
    "        chunk[i] += 1\n",
    "\n",
    "count_0 = 0\n",
    "count_1 = 0\n",
    "for j in range(len(s)):\n",
    "    if j // 2 == 0:\n",
    "        if chunk[j] != 0:\n",
    "            count_0 += 1\n",
    "    else:\n",
    "        if chunk[j] != 0:\n",
    "            count_1 += 1\n",
    "            \n",
    "result = min(count_0,count_1)\n",
    "print(result)"
   ]
  },
  {
   "cell_type": "markdown",
   "id": "7f866896",
   "metadata": {},
   "source": [
    "## 만들 수 없는 금액"
   ]
  },
  {
   "cell_type": "code",
   "execution_count": 18,
   "id": "e8be02da",
   "metadata": {
    "ExecuteTime": {
     "end_time": "2022-06-28T15:37:01.011064Z",
     "start_time": "2022-06-28T15:37:00.994056Z"
    }
   },
   "outputs": [
    {
     "name": "stdout",
     "output_type": "stream",
     "text": [
      "[5, 4, 4, 12, 3, 3, 11, 2, 10, 10]\n"
     ]
    }
   ],
   "source": [
    "from itertools import combinations as cb\n",
    "coin = [3,2,1,1,9]\n",
    "cb_list = list(cb(coin,2))\n",
    "sum_list = []\n",
    "for i in cb(coin,2):\n",
    "    sum_list.append(sum(i))\n",
    "print(sum_list)\n"
   ]
  },
  {
   "cell_type": "code",
   "execution_count": 28,
   "id": "eb86484d",
   "metadata": {
    "ExecuteTime": {
     "end_time": "2022-06-28T15:57:11.225714Z",
     "start_time": "2022-06-28T15:57:05.364067Z"
    }
   },
   "outputs": [
    {
     "name": "stdout",
     "output_type": "stream",
     "text": [
      "5\n",
      "1 1 1 1 5\n",
      "10\n"
     ]
    }
   ],
   "source": [
    "from itertools import combinations as cb\n",
    "n = int(input())\n",
    "coin = list(map(int,input().split()))\n",
    "sum_list = []\n",
    "for i in range(1, n+1):\n",
    "    for j in cb(coin,i):\n",
    "        sum_list.append(sum(j))\n",
    "result = 1\n",
    "while True:\n",
    "    if result in sum_list:\n",
    "        result += 1\n",
    "        continue\n",
    "    else:\n",
    "        print(result)\n",
    "        break\n",
    "        "
   ]
  },
  {
   "cell_type": "code",
   "execution_count": 26,
   "id": "9c76dd84",
   "metadata": {
    "ExecuteTime": {
     "end_time": "2022-06-28T15:55:32.006476Z",
     "start_time": "2022-06-28T15:55:28.698664Z"
    }
   },
   "outputs": [
    {
     "name": "stdout",
     "output_type": "stream",
     "text": [
      "5\n",
      "1 1 1 1 5\n",
      "2\n",
      "3\n",
      "4\n",
      "5\n",
      "10\n",
      "10\n"
     ]
    }
   ],
   "source": [
    "#정답 예시 : \n",
    "n = int(input())\n",
    "coin = list(map(int,input().split()))\n",
    "coin.sort()\n",
    "\n",
    "target = 1\n",
    "for x in coin:\n",
    "    if target < x:\n",
    "        break\n",
    "    target += x\n",
    "    \n",
    "    \n",
    "print(target)"
   ]
  },
  {
   "cell_type": "code",
   "execution_count": null,
   "id": "b477e0a7",
   "metadata": {},
   "outputs": [],
   "source": []
  }
 ],
 "metadata": {
  "kernelspec": {
   "display_name": "Python 3 (ipykernel)",
   "language": "python",
   "name": "python3"
  },
  "language_info": {
   "codemirror_mode": {
    "name": "ipython",
    "version": 3
   },
   "file_extension": ".py",
   "mimetype": "text/x-python",
   "name": "python",
   "nbconvert_exporter": "python",
   "pygments_lexer": "ipython3",
   "version": "3.9.12"
  },
  "toc": {
   "base_numbering": 1,
   "nav_menu": {},
   "number_sections": true,
   "sideBar": true,
   "skip_h1_title": false,
   "title_cell": "Table of Contents",
   "title_sidebar": "Contents",
   "toc_cell": false,
   "toc_position": {},
   "toc_section_display": true,
   "toc_window_display": false
  },
  "varInspector": {
   "cols": {
    "lenName": 16,
    "lenType": 16,
    "lenVar": 40
   },
   "kernels_config": {
    "python": {
     "delete_cmd_postfix": "",
     "delete_cmd_prefix": "del ",
     "library": "var_list.py",
     "varRefreshCmd": "print(var_dic_list())"
    },
    "r": {
     "delete_cmd_postfix": ") ",
     "delete_cmd_prefix": "rm(",
     "library": "var_list.r",
     "varRefreshCmd": "cat(var_dic_list()) "
    }
   },
   "types_to_exclude": [
    "module",
    "function",
    "builtin_function_or_method",
    "instance",
    "_Feature"
   ],
   "window_display": false
  }
 },
 "nbformat": 4,
 "nbformat_minor": 5
}
